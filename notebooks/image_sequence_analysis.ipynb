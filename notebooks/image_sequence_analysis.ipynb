{
 "cells": [
  {
   "cell_type": "markdown",
   "id": "a1937e5d",
   "metadata": {},
   "source": [
    "# ANALYSIS OF AN IMAGE SEQUENCE AFTER DATA GENERATION USING THE CALCIUM CHARACTERIZATION PIPELINE"
   ]
  },
  {
   "cell_type": "markdown",
   "id": "423ac2b3",
   "metadata": {},
   "source": [
    "### Initialization"
   ]
  },
  {
   "cell_type": "code",
   "execution_count": 1,
   "id": "1c11c6f0",
   "metadata": {},
   "outputs": [
    {
     "ename": "KeyboardInterrupt",
     "evalue": "",
     "output_type": "error",
     "traceback": [
      "\u001b[1;31m---------------------------------------------------------------------------\u001b[0m",
      "\u001b[1;31mKeyboardInterrupt\u001b[0m                         Traceback (most recent call last)",
      "Cell \u001b[1;32mIn[1], line 2\u001b[0m\n\u001b[0;32m      1\u001b[0m \u001b[38;5;66;03m# Libraries\u001b[39;00m\n\u001b[1;32m----> 2\u001b[0m \u001b[38;5;28;01mimport\u001b[39;00m\u001b[38;5;250m \u001b[39m\u001b[38;5;21;01mseaborn\u001b[39;00m\u001b[38;5;250m \u001b[39m\u001b[38;5;28;01mas\u001b[39;00m\u001b[38;5;250m \u001b[39m\u001b[38;5;21;01msns\u001b[39;00m\n\u001b[0;32m      3\u001b[0m \u001b[38;5;28;01mimport\u001b[39;00m\u001b[38;5;250m \u001b[39m\u001b[38;5;21;01mnumpy\u001b[39;00m\u001b[38;5;250m \u001b[39m\u001b[38;5;28;01mas\u001b[39;00m\u001b[38;5;250m \u001b[39m\u001b[38;5;21;01mnp\u001b[39;00m\n\u001b[0;32m      4\u001b[0m \u001b[38;5;28;01mfrom\u001b[39;00m\u001b[38;5;250m \u001b[39m\u001b[38;5;21;01mpathlib\u001b[39;00m\u001b[38;5;250m \u001b[39m\u001b[38;5;28;01mimport\u001b[39;00m Path\n",
      "File \u001b[1;32mc:\\Users\\poseidon\\OneDrive\\Documents\\01_ETHZ\\Master_Degree\\Spring_Semester_2025\\Master_Thesis\\Coding\\Image_analysis\\.venv\\lib\\site-packages\\seaborn\\__init__.py:2\u001b[0m\n\u001b[0;32m      1\u001b[0m \u001b[38;5;66;03m# Import seaborn objects\u001b[39;00m\n\u001b[1;32m----> 2\u001b[0m \u001b[38;5;28;01mfrom\u001b[39;00m\u001b[38;5;250m \u001b[39m\u001b[38;5;21;01m.\u001b[39;00m\u001b[38;5;21;01mrcmod\u001b[39;00m\u001b[38;5;250m \u001b[39m\u001b[38;5;28;01mimport\u001b[39;00m \u001b[38;5;241m*\u001b[39m  \u001b[38;5;66;03m# noqa: F401,F403\u001b[39;00m\n\u001b[0;32m      3\u001b[0m \u001b[38;5;28;01mfrom\u001b[39;00m\u001b[38;5;250m \u001b[39m\u001b[38;5;21;01m.\u001b[39;00m\u001b[38;5;21;01mutils\u001b[39;00m\u001b[38;5;250m \u001b[39m\u001b[38;5;28;01mimport\u001b[39;00m \u001b[38;5;241m*\u001b[39m  \u001b[38;5;66;03m# noqa: F401,F403\u001b[39;00m\n\u001b[0;32m      4\u001b[0m \u001b[38;5;28;01mfrom\u001b[39;00m\u001b[38;5;250m \u001b[39m\u001b[38;5;21;01m.\u001b[39;00m\u001b[38;5;21;01mpalettes\u001b[39;00m\u001b[38;5;250m \u001b[39m\u001b[38;5;28;01mimport\u001b[39;00m \u001b[38;5;241m*\u001b[39m  \u001b[38;5;66;03m# noqa: F401,F403\u001b[39;00m\n",
      "File \u001b[1;32mc:\\Users\\poseidon\\OneDrive\\Documents\\01_ETHZ\\Master_Degree\\Spring_Semester_2025\\Master_Thesis\\Coding\\Image_analysis\\.venv\\lib\\site-packages\\seaborn\\rcmod.py:3\u001b[0m\n\u001b[0;32m      1\u001b[0m \u001b[38;5;124;03m\"\"\"Control plot style and scaling using the matplotlib rcParams interface.\"\"\"\u001b[39;00m\n\u001b[0;32m      2\u001b[0m \u001b[38;5;28;01mimport\u001b[39;00m\u001b[38;5;250m \u001b[39m\u001b[38;5;21;01mfunctools\u001b[39;00m\n\u001b[1;32m----> 3\u001b[0m \u001b[38;5;28;01mimport\u001b[39;00m\u001b[38;5;250m \u001b[39m\u001b[38;5;21;01mmatplotlib\u001b[39;00m\u001b[38;5;250m \u001b[39m\u001b[38;5;28;01mas\u001b[39;00m\u001b[38;5;250m \u001b[39m\u001b[38;5;21;01mmpl\u001b[39;00m\n\u001b[0;32m      4\u001b[0m \u001b[38;5;28;01mfrom\u001b[39;00m\u001b[38;5;250m \u001b[39m\u001b[38;5;21;01mcycler\u001b[39;00m\u001b[38;5;250m \u001b[39m\u001b[38;5;28;01mimport\u001b[39;00m cycler\n\u001b[0;32m      5\u001b[0m \u001b[38;5;28;01mfrom\u001b[39;00m\u001b[38;5;250m \u001b[39m\u001b[38;5;21;01m.\u001b[39;00m\u001b[38;5;250m \u001b[39m\u001b[38;5;28;01mimport\u001b[39;00m palettes\n",
      "File \u001b[1;32mc:\\Users\\poseidon\\OneDrive\\Documents\\01_ETHZ\\Master_Degree\\Spring_Semester_2025\\Master_Thesis\\Coding\\Image_analysis\\.venv\\lib\\site-packages\\matplotlib\\__init__.py:161\u001b[0m\n\u001b[0;32m    157\u001b[0m \u001b[38;5;28;01mfrom\u001b[39;00m\u001b[38;5;250m \u001b[39m\u001b[38;5;21;01mpackaging\u001b[39;00m\u001b[38;5;21;01m.\u001b[39;00m\u001b[38;5;21;01mversion\u001b[39;00m\u001b[38;5;250m \u001b[39m\u001b[38;5;28;01mimport\u001b[39;00m parse \u001b[38;5;28;01mas\u001b[39;00m parse_version\n\u001b[0;32m    159\u001b[0m \u001b[38;5;66;03m# cbook must import matplotlib only within function\u001b[39;00m\n\u001b[0;32m    160\u001b[0m \u001b[38;5;66;03m# definitions, so it is safe to import from it here.\u001b[39;00m\n\u001b[1;32m--> 161\u001b[0m \u001b[38;5;28;01mfrom\u001b[39;00m\u001b[38;5;250m \u001b[39m\u001b[38;5;21;01m.\u001b[39;00m\u001b[38;5;250m \u001b[39m\u001b[38;5;28;01mimport\u001b[39;00m _api, _version, cbook, _docstring, rcsetup\n\u001b[0;32m    162\u001b[0m \u001b[38;5;28;01mfrom\u001b[39;00m\u001b[38;5;250m \u001b[39m\u001b[38;5;21;01mmatplotlib\u001b[39;00m\u001b[38;5;21;01m.\u001b[39;00m\u001b[38;5;21;01m_api\u001b[39;00m\u001b[38;5;250m \u001b[39m\u001b[38;5;28;01mimport\u001b[39;00m MatplotlibDeprecationWarning\n\u001b[0;32m    163\u001b[0m \u001b[38;5;28;01mfrom\u001b[39;00m\u001b[38;5;250m \u001b[39m\u001b[38;5;21;01mmatplotlib\u001b[39;00m\u001b[38;5;21;01m.\u001b[39;00m\u001b[38;5;21;01mrcsetup\u001b[39;00m\u001b[38;5;250m \u001b[39m\u001b[38;5;28;01mimport\u001b[39;00m cycler  \u001b[38;5;66;03m# noqa: F401\u001b[39;00m\n",
      "File \u001b[1;32mc:\\Users\\poseidon\\OneDrive\\Documents\\01_ETHZ\\Master_Degree\\Spring_Semester_2025\\Master_Thesis\\Coding\\Image_analysis\\.venv\\lib\\site-packages\\matplotlib\\cbook.py:24\u001b[0m\n\u001b[0;32m     21\u001b[0m \u001b[38;5;28;01mimport\u001b[39;00m\u001b[38;5;250m \u001b[39m\u001b[38;5;21;01mtypes\u001b[39;00m\n\u001b[0;32m     22\u001b[0m \u001b[38;5;28;01mimport\u001b[39;00m\u001b[38;5;250m \u001b[39m\u001b[38;5;21;01mweakref\u001b[39;00m\n\u001b[1;32m---> 24\u001b[0m \u001b[38;5;28;01mimport\u001b[39;00m\u001b[38;5;250m \u001b[39m\u001b[38;5;21;01mnumpy\u001b[39;00m\u001b[38;5;250m \u001b[39m\u001b[38;5;28;01mas\u001b[39;00m\u001b[38;5;250m \u001b[39m\u001b[38;5;21;01mnp\u001b[39;00m\n\u001b[0;32m     26\u001b[0m \u001b[38;5;28;01mtry\u001b[39;00m:\n\u001b[0;32m     27\u001b[0m     \u001b[38;5;28;01mfrom\u001b[39;00m\u001b[38;5;250m \u001b[39m\u001b[38;5;21;01mnumpy\u001b[39;00m\u001b[38;5;21;01m.\u001b[39;00m\u001b[38;5;21;01mexceptions\u001b[39;00m\u001b[38;5;250m \u001b[39m\u001b[38;5;28;01mimport\u001b[39;00m VisibleDeprecationWarning  \u001b[38;5;66;03m# numpy >= 1.25\u001b[39;00m\n",
      "File \u001b[1;32mc:\\Users\\poseidon\\OneDrive\\Documents\\01_ETHZ\\Master_Degree\\Spring_Semester_2025\\Master_Thesis\\Coding\\Image_analysis\\.venv\\lib\\site-packages\\numpy\\__init__.py:173\u001b[0m\n\u001b[0;32m    171\u001b[0m \u001b[38;5;28;01mfrom\u001b[39;00m\u001b[38;5;250m \u001b[39m\u001b[38;5;21;01m.\u001b[39;00m\u001b[38;5;250m \u001b[39m\u001b[38;5;28;01mimport\u001b[39;00m random\n\u001b[0;32m    172\u001b[0m \u001b[38;5;28;01mfrom\u001b[39;00m\u001b[38;5;250m \u001b[39m\u001b[38;5;21;01m.\u001b[39;00m\u001b[38;5;250m \u001b[39m\u001b[38;5;28;01mimport\u001b[39;00m ctypeslib\n\u001b[1;32m--> 173\u001b[0m \u001b[38;5;28;01mfrom\u001b[39;00m\u001b[38;5;250m \u001b[39m\u001b[38;5;21;01m.\u001b[39;00m\u001b[38;5;250m \u001b[39m\u001b[38;5;28;01mimport\u001b[39;00m ma\n\u001b[0;32m    174\u001b[0m \u001b[38;5;28;01mfrom\u001b[39;00m\u001b[38;5;250m \u001b[39m\u001b[38;5;21;01m.\u001b[39;00m\u001b[38;5;250m \u001b[39m\u001b[38;5;28;01mimport\u001b[39;00m matrixlib \u001b[38;5;28;01mas\u001b[39;00m _mat\n\u001b[0;32m    175\u001b[0m \u001b[38;5;28;01mfrom\u001b[39;00m\u001b[38;5;250m \u001b[39m\u001b[38;5;21;01m.\u001b[39;00m\u001b[38;5;21;01mmatrixlib\u001b[39;00m\u001b[38;5;250m \u001b[39m\u001b[38;5;28;01mimport\u001b[39;00m \u001b[38;5;241m*\u001b[39m\n",
      "File \u001b[1;32mc:\\Users\\poseidon\\OneDrive\\Documents\\01_ETHZ\\Master_Degree\\Spring_Semester_2025\\Master_Thesis\\Coding\\Image_analysis\\.venv\\lib\\site-packages\\numpy\\ma\\__init__.py:45\u001b[0m\n\u001b[0;32m     42\u001b[0m \u001b[38;5;28;01mfrom\u001b[39;00m\u001b[38;5;250m \u001b[39m\u001b[38;5;21;01m.\u001b[39;00m\u001b[38;5;250m \u001b[39m\u001b[38;5;28;01mimport\u001b[39;00m core\n\u001b[0;32m     43\u001b[0m \u001b[38;5;28;01mfrom\u001b[39;00m\u001b[38;5;250m \u001b[39m\u001b[38;5;21;01m.\u001b[39;00m\u001b[38;5;21;01mcore\u001b[39;00m\u001b[38;5;250m \u001b[39m\u001b[38;5;28;01mimport\u001b[39;00m \u001b[38;5;241m*\u001b[39m\n\u001b[1;32m---> 45\u001b[0m \u001b[38;5;28;01mfrom\u001b[39;00m\u001b[38;5;250m \u001b[39m\u001b[38;5;21;01m.\u001b[39;00m\u001b[38;5;250m \u001b[39m\u001b[38;5;28;01mimport\u001b[39;00m extras\n\u001b[0;32m     46\u001b[0m \u001b[38;5;28;01mfrom\u001b[39;00m\u001b[38;5;250m \u001b[39m\u001b[38;5;21;01m.\u001b[39;00m\u001b[38;5;21;01mextras\u001b[39;00m\u001b[38;5;250m \u001b[39m\u001b[38;5;28;01mimport\u001b[39;00m \u001b[38;5;241m*\u001b[39m\n\u001b[0;32m     48\u001b[0m __all__ \u001b[38;5;241m=\u001b[39m [\u001b[38;5;124m'\u001b[39m\u001b[38;5;124mcore\u001b[39m\u001b[38;5;124m'\u001b[39m, \u001b[38;5;124m'\u001b[39m\u001b[38;5;124mextras\u001b[39m\u001b[38;5;124m'\u001b[39m]\n",
      "File \u001b[1;32m<frozen importlib._bootstrap>:1027\u001b[0m, in \u001b[0;36m_find_and_load\u001b[1;34m(name, import_)\u001b[0m\n",
      "File \u001b[1;32m<frozen importlib._bootstrap>:1006\u001b[0m, in \u001b[0;36m_find_and_load_unlocked\u001b[1;34m(name, import_)\u001b[0m\n",
      "File \u001b[1;32m<frozen importlib._bootstrap>:688\u001b[0m, in \u001b[0;36m_load_unlocked\u001b[1;34m(spec)\u001b[0m\n",
      "File \u001b[1;32m<frozen importlib._bootstrap_external>:879\u001b[0m, in \u001b[0;36mexec_module\u001b[1;34m(self, module)\u001b[0m\n",
      "File \u001b[1;32m<frozen importlib._bootstrap_external>:975\u001b[0m, in \u001b[0;36mget_code\u001b[1;34m(self, fullname)\u001b[0m\n",
      "File \u001b[1;32m<frozen importlib._bootstrap_external>:1074\u001b[0m, in \u001b[0;36mget_data\u001b[1;34m(self, path)\u001b[0m\n",
      "\u001b[1;31mKeyboardInterrupt\u001b[0m: "
     ]
    }
   ],
   "source": [
    "# Libraries\n",
    "import seaborn as sns\n",
    "import numpy as np\n",
    "from pathlib import Path\n",
    "import sys\n",
    "import pandas as pd\n",
    "\n",
    "# Add /Source to sys.path if not already present\n",
    "project_root = Path.cwd().parent\n",
    "source_path = project_root / \"src\"\n",
    "\n",
    "if source_path.exists() and str(source_path) not in sys.path:\n",
    "    sys.path.insert(0, str(source_path))\n",
    "\n",
    "# Utility functions\n",
    "from calcium_activity_characterization.analysis.visualizers import (\n",
    "    plot_histogram, \n",
    "    plot_pie_chart,\n",
    "    visualize_image,\n",
    "    plot_bar,\n",
    "    plot_histogram_by_group,\n",
    "    plot_scatter_size_coded,\n",
    "    plot_points_mean_std,\n",
    "    plot_early_peakers_heatmap\n",
    "    )\n",
    "from calcium_activity_characterization.io.csv_loader import load_and_merge_datasets\n",
    "from calcium_activity_characterization.analysis.statistics import analyze_peak_intervals, build_neighbor_pair_stats\n",
    "\n",
    "sns.set(style=\"whitegrid\")\n",
    "\n",
    "figure_path=Path(\"C:/Users/poseidon/OneDrive/Documents/01_ETHZ/Master_Degree/Spring_Semester_2025/Master_Thesis/Report/Figures\")"
   ]
  },
  {
   "cell_type": "code",
   "execution_count": null,
   "id": "70fa6ccb",
   "metadata": {
    "tags": [
     "parameters"
    ]
   },
   "outputs": [],
   "source": [
    "# Define paths to control datasets\n",
    "control_paths = {\n",
    "    \"20250326_IS1\": \"D:/Mateo/20250326/Output/IS1\"\n",
    "}"
   ]
  },
  {
   "cell_type": "code",
   "execution_count": null,
   "id": "4f093dbe",
   "metadata": {},
   "outputs": [],
   "source": [
    "# Load and merge datasets\n",
    "peaks = load_and_merge_datasets(control_paths=control_paths, file_name=\"datasets/peaks.csv\")\n",
    "cells = load_and_merge_datasets(control_paths=control_paths, file_name=\"datasets/cells.csv\")\n",
    "events = load_and_merge_datasets(control_paths=control_paths, file_name=\"datasets/events.csv\")\n",
    "communications = load_and_merge_datasets(control_paths=control_paths, file_name=\"datasets/communications.csv\")\n",
    "cellmotion = load_and_merge_datasets(control_paths=control_paths, file_name=\"cell-motion/metrics_cellmotion.csv\")"
   ]
  },
  {
   "cell_type": "markdown",
   "id": "500aeea2",
   "metadata": {},
   "source": [
    "## POPULATION"
   ]
  },
  {
   "cell_type": "markdown",
   "id": "5e0ad084",
   "metadata": {},
   "source": [
    "### Binary & Heatmap Raster Plot"
   ]
  },
  {
   "cell_type": "code",
   "execution_count": null,
   "id": "28ee85d5",
   "metadata": {},
   "outputs": [],
   "source": [
    "visualize_image(\n",
    "    image_source=control_paths,\n",
    "    image_name=\"signal-processing/raster_plot.png\",\n",
    "    title=\"Binary Activity Raster Plot\",\n",
    "    figsize=(8, 6)\n",
    ")\n",
    "visualize_image(\n",
    "    image_source=control_paths,\n",
    "    image_name=\"signal-processing/heatmap_raster.png\",\n",
    "    title=\"Heatmap Activity Raster Plot\",\n",
    "    figsize=(8, 6)\n",
    ")"
   ]
  },
  {
   "cell_type": "markdown",
   "id": "d2a41914",
   "metadata": {},
   "source": [
    "### Peaks population"
   ]
  },
  {
   "cell_type": "code",
   "execution_count": null,
   "id": "45d60e86",
   "metadata": {},
   "outputs": [],
   "source": [
    "print(f\"Total number of peaks: {len(peaks)}\")\n",
    "print(f\"Total number of cells: {len(cells)}\")"
   ]
  },
  {
   "cell_type": "markdown",
   "id": "704d6727",
   "metadata": {},
   "source": [
    "### Peaks statistics"
   ]
  },
  {
   "cell_type": "code",
   "execution_count": null,
   "id": "97666f0e",
   "metadata": {},
   "outputs": [],
   "source": [
    "plot_histogram(\n",
    "    df=peaks,\n",
    "    column=\"Duration (s)\",\n",
    "    title=\"Distribution of Peak Durations\",\n",
    "    ylabel=\"Number of Peaks\",\n",
    "    bin_width=3,\n",
    "    filter_outliers=True,\n",
    "    outliers_bounds=(3, 3),\n",
    "    return_outliers=False,\n",
    "    x_axis_boundaries=(0, 250)\n",
    ")\n",
    "plot_histogram(\n",
    "    df=peaks,\n",
    "    column=\"Prominence (noise std units)\",\n",
    "    title=\"Distribution of Peak Prominences\",\n",
    "    ylabel=\"Number of Peaks\",\n",
    "    bin_width=3,\n",
    "    filter_outliers=True,\n",
    "    outliers_bounds=(3, 3),\n",
    "    return_outliers=False,\n",
    "    x_axis_boundaries=(0, 400)\n",
    ")\n",
    "plot_histogram(\n",
    "    df=peaks,\n",
    "    column=\"FHW symmetry score\",\n",
    "    title=\"Distribution of Peak Symmetry Scores\",\n",
    "    ylabel=\"Number of Peaks\",\n",
    "    bin_count=30\n",
    ")"
   ]
  },
  {
   "cell_type": "markdown",
   "id": "a5892cad",
   "metadata": {},
   "source": [
    "### Distribution of peaks per event types"
   ]
  },
  {
   "cell_type": "code",
   "execution_count": null,
   "id": "0f2609f9",
   "metadata": {},
   "outputs": [],
   "source": [
    "plot_pie_chart(\n",
    "    df=peaks,\n",
    "    column=\"In event\",\n",
    "    title=\"Distribution of Peaks by Event types\",\n",
    "    palette=\"tab20\"\n",
    ")"
   ]
  },
  {
   "cell_type": "markdown",
   "id": "d0877d4b",
   "metadata": {},
   "source": [
    "### Peaks statistics per event types"
   ]
  },
  {
   "cell_type": "code",
   "execution_count": null,
   "id": "2a6c3cd7",
   "metadata": {},
   "outputs": [],
   "source": [
    "peaks[\"In event\"] = peaks[\"In event\"].fillna(\"individual\")\n",
    "plot_histogram_by_group(\n",
    "    df=peaks,\n",
    "    value_column=\"Duration (s)\",\n",
    "    group_column=\"In event\",\n",
    "    title=\"Distribution of Peak Durations by Group\",\n",
    "    ylabel=\"Number of Peaks\",\n",
    "    bin_width=3,\n",
    "    multiple=\"layer\",\n",
    "    palette=\"tab10\",\n",
    "    filter_outliers=True,\n",
    "    outliers_bounds=(3, 3),\n",
    "    return_outliers=False,\n",
    "    x_axis_boundaries=(0, 250),\n",
    ")\n",
    "plot_histogram_by_group(\n",
    "    df=peaks,\n",
    "    value_column=\"Prominence (noise std units)\",\n",
    "    group_column=\"In event\",\n",
    "    title=\"Distribution of Peak Prominences by Group\",\n",
    "    ylabel=\"Number of Peaks\",\n",
    "    bin_width=3,\n",
    "    multiple=\"layer\",\n",
    "    palette=\"Set2\",\n",
    "    filter_outliers=True,\n",
    "    outliers_bounds=(3, 3),\n",
    "    return_outliers=False,\n",
    "    x_axis_boundaries=(0, 400),\n",
    ")\n",
    "plot_histogram_by_group(\n",
    "    df=peaks,\n",
    "    value_column=\"FHW symmetry score\",\n",
    "    group_column=\"In event\",\n",
    "    title=\"Distribution of Peak Symmetry Scores by Group\",\n",
    "    ylabel=\"Number of Peaks\",\n",
    "    bin_count=30,\n",
    "    multiple=\"layer\",\n",
    "    palette=\"Set2\",\n",
    ")"
   ]
  },
  {
   "cell_type": "markdown",
   "id": "9de462ee",
   "metadata": {},
   "source": [
    "## GLOBAL EVENTS"
   ]
  },
  {
   "cell_type": "markdown",
   "id": "ab2cf9dc",
   "metadata": {},
   "source": [
    "### Peak statistics in global events"
   ]
  },
  {
   "cell_type": "code",
   "execution_count": null,
   "id": "a3b064e9",
   "metadata": {},
   "outputs": [],
   "source": [
    "plot_histogram(\n",
    "    df=peaks[peaks[\"In event\"] == \"global\"],\n",
    "    column=\"Duration (s)\",\n",
    "    title=\"Distribution of Peak Durations\",\n",
    "    ylabel=\"Number of Peaks\",\n",
    "    bin_width=3,\n",
    "    filter_outliers=True,\n",
    "    outliers_bounds=(3, 3),\n",
    "    return_outliers=False,\n",
    "    x_axis_boundaries=(0, 250)\n",
    ")\n",
    "plot_histogram(\n",
    "    df=peaks[peaks[\"In event\"] == \"global\"],\n",
    "    column=\"Prominence (noise std units)\",\n",
    "    title=\"Distribution of Peak Prominences\",\n",
    "    ylabel=\"Number of Peaks\",\n",
    "    bin_width=3,\n",
    "    filter_outliers=True,\n",
    "    outliers_bounds=(3, 3),\n",
    "    return_outliers=False,\n",
    "    x_axis_boundaries=(0, 400)\n",
    ")\n",
    "plot_histogram(\n",
    "    df=peaks[peaks[\"In event\"] == \"global\"],\n",
    "    column=\"FHW symmetry score\",\n",
    "    title=\"Distribution of Peak Symmetry Scores\",\n",
    "    ylabel=\"Number of Peaks\",\n",
    "    bin_count=30\n",
    ")"
   ]
  },
  {
   "cell_type": "markdown",
   "id": "c2fd1511",
   "metadata": {},
   "source": [
    "### Peak statistics in global event per event ID"
   ]
  },
  {
   "cell_type": "code",
   "execution_count": null,
   "id": "1039b053",
   "metadata": {},
   "outputs": [],
   "source": [
    "plot_histogram_by_group(\n",
    "    df=peaks[peaks[\"In event\"] == \"global\"],\n",
    "    value_column=\"Duration (s)\",\n",
    "    group_column=\"Event ID\",\n",
    "    title=\"Distribution of Peak Durations by Group\",\n",
    "    ylabel=\"Number of Peaks\",\n",
    "    bin_width=3,\n",
    "    multiple=\"layer\",\n",
    "    palette=\"Set2\",\n",
    "    filter_outliers=True,\n",
    "    outliers_bounds=(3, 3),\n",
    "    return_outliers=False,\n",
    "    x_axis_boundaries=(0, 250)\n",
    ")\n",
    "plot_histogram_by_group(\n",
    "    df=peaks[peaks[\"In event\"] == \"global\"],\n",
    "    value_column=\"Prominence (noise std units)\",\n",
    "    group_column=\"Event ID\",\n",
    "    title=\"Distribution of Peak Prominences by Group\",\n",
    "    ylabel=\"Number of Peaks\",\n",
    "    bin_width=3,\n",
    "    multiple=\"layer\",\n",
    "    palette=\"Set2\",\n",
    "    filter_outliers=True,\n",
    "    outliers_bounds=(3, 3),\n",
    "    return_outliers=False,\n",
    "    x_axis_boundaries=(0, 400)\n",
    ")\n",
    "plot_histogram_by_group(\n",
    "    df=peaks[peaks[\"In event\"] == \"global\"],\n",
    "    value_column=\"FHW symmetry score\",\n",
    "    group_column=\"Event ID\",\n",
    "    title=\"Distribution of Peak Symmetry Scores by Group\",\n",
    "    ylabel=\"Number of Peaks\",\n",
    "    bin_count=30,\n",
    "    multiple=\"layer\",\n",
    "    palette=\"Set2\"\n",
    ")"
   ]
  },
  {
   "cell_type": "markdown",
   "id": "ef827f7d",
   "metadata": {},
   "source": [
    "### Kinetics of global events"
   ]
  },
  {
   "cell_type": "code",
   "execution_count": null,
   "id": "c13d68f7",
   "metadata": {},
   "outputs": [],
   "source": [
    "global_events = events[events[\"Event type\"] == \"GlobalEvent\"].copy()\n",
    "\n",
    "for event_id in global_events[\"Event ID\"]:\n",
    "    visualize_image(\n",
    "        image_source=control_paths,\n",
    "        image_name=f\"events/event-growth-curve-{event_id}.png\",\n",
    "        title=f\"Event Activity Overlay (Event ID: {event_id})\",\n",
    "        figsize=(6, 4)\n",
    "    )"
   ]
  },
  {
   "cell_type": "code",
   "execution_count": null,
   "id": "fb67b76a",
   "metadata": {},
   "outputs": [],
   "source": [
    "plot_bar(\n",
    "    df=global_events,\n",
    "    axis_column=\"Event ID\",\n",
    "    value_column=\"Time to 50% (s)\",\n",
    "    title=\"Time to 50% of Peaks in Global Events\",\n",
    "    ylabel=\"Time to 50% of Peak (s)\",\n",
    "    xlabel=\"Event ID\",\n",
    "    rotation=0,\n",
    "    palette=\"muted\",\n",
    "    hue_column=None\n",
    ")\n",
    "plot_bar(\n",
    "    df=global_events,\n",
    "    axis_column=\"Event ID\",\n",
    "    value_column=\"Normalized peak rate at 50% (% of peaks/s)\",\n",
    "    title=\"Peak rate at 50% in Global Events\",\n",
    "    ylabel=\"Peak Rate at 50% (% of peaks/s)\",\n",
    "    xlabel=\"Event ID\",\n",
    "    rotation=0,\n",
    "    palette=\"muted\",\n",
    "    hue_column=None\n",
    ")"
   ]
  },
  {
   "cell_type": "markdown",
   "id": "64785f91",
   "metadata": {},
   "source": [
    "### Cells Occurrences in global events"
   ]
  },
  {
   "cell_type": "code",
   "execution_count": null,
   "id": "0b7e1929",
   "metadata": {},
   "outputs": [],
   "source": [
    "plot_pie_chart(\n",
    "    df=cells,\n",
    "    column=\"Occurrences in global events\",\n",
    "    title=\"Distribution of Unique Global Events per Cell\",\n",
    "    palette=\"Set2\"\n",
    ")"
   ]
  },
  {
   "cell_type": "code",
   "execution_count": null,
   "id": "fd1dcc25",
   "metadata": {},
   "outputs": [],
   "source": [
    "visualize_image(\n",
    "    image_source=control_paths,\n",
    "    image_name=\"cell-mapping/cell_Occurrences_in_global_events_overlay.png\",\n",
    "    title=\"Cell Mapping with Occurrences in Global Events Overlay\",\n",
    "    figsize=(5, 6)\n",
    ")"
   ]
  },
  {
   "cell_type": "code",
   "execution_count": null,
   "id": "3572e8c3",
   "metadata": {},
   "outputs": [],
   "source": [
    "global_events[\"% of cells involved\"] = 100 * global_events[\"Number of cells involved\"] / len(cells)\n",
    "\n",
    "plot_bar(\n",
    "    df=global_events,\n",
    "    axis_column=\"Event ID\",\n",
    "    value_column=\"% of cells involved\",\n",
    "    title=\"Percentage of Cells Involved in Global Events\",\n",
    "    ylabel=\"Percentage of Cells Involved (%)\",\n",
    "    xlabel=\"Event ID\",\n",
    "    rotation=0\n",
    ")"
   ]
  },
  {
   "cell_type": "markdown",
   "id": "aff7a791",
   "metadata": {},
   "source": [
    "### Inter-event interval analysis"
   ]
  },
  {
   "cell_type": "code",
   "execution_count": null,
   "id": "adbff9d9",
   "metadata": {},
   "outputs": [],
   "source": [
    "intervals, periodicity, frequency = analyze_peak_intervals(events[events[\"Event type\"] == \"GlobalEvent\"][\"Event peak time (s)\"].tolist())\n",
    "\n",
    "print(f\"Intervals between global event peaks: {intervals}\")\n",
    "\n",
    "if periodicity is not None:\n",
    "    print(f\"Estimated periodicity: {periodicity:.3f}\")\n",
    "\n",
    "if periodicity is not None and periodicity > 0.8:\n",
    "    print(\"The global events exhibit a regular periodic pattern.\")\n",
    "    print(f\"Estimated frequency (1/mean interval): {frequency:.3f} Hz\")"
   ]
  },
  {
   "cell_type": "markdown",
   "id": "bab5275c",
   "metadata": {},
   "source": [
    "### Early peakers in the events"
   ]
  },
  {
   "cell_type": "code",
   "execution_count": null,
   "id": "93c13e4b",
   "metadata": {},
   "outputs": [],
   "source": [
    "for event_id in global_events[\"Event ID\"]:\n",
    "    visualize_image(\n",
    "        image_source=control_paths,\n",
    "        image_name=f\"cell-mapping/global_events/global_event_{event_id}_early_peakers_overlay.png\",\n",
    "        title=f\"Cell Mapping with Early Peakers Overlay for event {event_id}\",\n",
    "        figsize=(5, 6)\n",
    "    )\n",
    "\n",
    "visualize_image(\n",
    "    image_source=control_paths,\n",
    "    image_name=\"cell-mapping/global_events/global_event_overlap_early_peakers_overlay.png\",\n",
    "    title=\"Cell Mapping with Occurrences in Global Events Overlay\",\n",
    "    figsize=(5, 6)\n",
    ")"
   ]
  },
  {
   "cell_type": "code",
   "execution_count": null,
   "id": "58c993bb",
   "metadata": {},
   "outputs": [],
   "source": [
    "plot_early_peakers_heatmap(\n",
    "    cells=cells,\n",
    "    total_events=len(global_events),\n",
    ")"
   ]
  },
  {
   "cell_type": "code",
   "execution_count": null,
   "id": "0d6ff4ad",
   "metadata": {},
   "outputs": [],
   "source": [
    "early_peakers_df = (\n",
    "    cells[cells[\"Occurrences in global events as early peaker\"] > 0]\n",
    "      .groupby(\"Occurrences in global events as early peaker\")\n",
    "      .size()\n",
    "      .reset_index(name=\"Number of cells\")\n",
    "      .rename(columns={\"Occurrences in global events as early peaker\": \"Number of Occurrences\"})\n",
    "      .sort_values(\"Number of Occurrences\")\n",
    ")\n",
    "\n",
    "plot_bar(\n",
    "    df=early_peakers_df,\n",
    "    axis_column=\"Number of Occurrences\",\n",
    "    value_column=\"Number of cells\",\n",
    "    title=\"Early Peakers in Global Events\",\n",
    "    xlabel=\"Number of Occurrences\",\n",
    "    ylabel=\"Number of cells\",\n",
    "    rotation=0\n",
    ")\n",
    "\n",
    "plot_pie_chart(\n",
    "    df=cells[cells[\"Occurrences in global events as early peaker\"] > 0],\n",
    "    column=\"Occurrences in global events as early peaker\",\n",
    "    title=\"Distribution of Early Peakers in Global Events\"\n",
    ")"
   ]
  },
  {
   "cell_type": "markdown",
   "id": "bde6a80d",
   "metadata": {},
   "source": [
    "## SEQUENTIAL EVENTS"
   ]
  },
  {
   "cell_type": "markdown",
   "id": "a563cacc",
   "metadata": {},
   "source": [
    "### Cells Occurrences in sequencial events"
   ]
  },
  {
   "cell_type": "code",
   "execution_count": null,
   "id": "f67a68b8",
   "metadata": {},
   "outputs": [],
   "source": [
    "cells[\"Involved in sequential event\"] = cells[\"Occurrences in sequential events\"].apply(lambda x: \"Involved in sequential event\" if x > 0 else \"Not involved in sequential event\")\n",
    "\n",
    "plot_pie_chart(\n",
    "    df=cells,\n",
    "    column=\"Involved in sequential event\",\n",
    "    title=\"Distribution of Cells Involved in Sequential Events\",\n",
    "    palette=\"Set2\"\n",
    ")\n",
    "\n",
    "def cells_category(n: int) -> str:\n",
    "    if n == 0:\n",
    "        return \"0\"\n",
    "    elif n == 1 or n == 2:\n",
    "        return \"1-2\"\n",
    "    elif n == 3 or n == 4:\n",
    "        return \"3-4\"\n",
    "    elif n < 10:\n",
    "        return \"5-9\"\n",
    "    else:\n",
    "        return \"10+\"\n",
    "\n",
    "cells[\"Occurrences in sequential events category\"] = cells[\"Occurrences in sequential events\"].apply(cells_category)\n",
    "\n",
    "plot_pie_chart(\n",
    "    df=cells,\n",
    "    column=\"Occurrences in sequential events category\",\n",
    "    title=\"Distribution of Sequential Event Occurrences per Cell (0, 1-2, 3-4, 5-9, 10+)\",\n",
    "    palette=\"Set2\"\n",
    ")"
   ]
  },
  {
   "cell_type": "code",
   "execution_count": null,
   "id": "af347f62",
   "metadata": {},
   "outputs": [],
   "source": [
    "visualize_image(\n",
    "    image_source=control_paths,\n",
    "    image_name=\"cell-mapping/cell_Occurences_in_sequential_events_overlay.png\",\n",
    "    title=\"Cell Mapping with Occurrences in Sequential Events Overlay\",\n",
    "    figsize=(5, 6)\n",
    ")\n",
    "visualize_image(\n",
    "    image_source=control_paths,\n",
    "    image_name=\"cell-mapping/cell_Occurences_in_large_sequential_events_overlay.png\",\n",
    "    title=\"Cell Mapping with Occurrences in Large Sequential Events Overlay (>2)\",\n",
    "    figsize=(5, 6)\n",
    ")"
   ]
  },
  {
   "cell_type": "markdown",
   "id": "d96eda82",
   "metadata": {},
   "source": [
    "### Peaks statistics in sequential events"
   ]
  },
  {
   "cell_type": "code",
   "execution_count": null,
   "id": "57670bfa",
   "metadata": {},
   "outputs": [],
   "source": [
    "plot_histogram(\n",
    "    df=peaks[peaks[\"In event\"] == \"sequential\"],\n",
    "    column=\"Duration (s)\",\n",
    "    title=\"Distribution of Peak Durations\",\n",
    "    ylabel=\"Number of Peaks\",\n",
    "    bin_width=3,\n",
    "    filter_outliers=True,\n",
    "    outliers_bounds=(1.5, 3.5),\n",
    "    return_outliers=False,\n",
    "    x_axis_boundaries=(0, 250)\n",
    ")\n",
    "plot_histogram(\n",
    "    df=peaks[peaks[\"In event\"] == \"sequential\"],\n",
    "    column=\"Prominence (noise std units)\",\n",
    "    title=\"Distribution of Peak Prominences\",\n",
    "    ylabel=\"Number of Peaks\",\n",
    "    bin_width=3,\n",
    "    filter_outliers=True,\n",
    "    outliers_bounds=(1.5, 3.5),\n",
    "    return_outliers=False,\n",
    "    x_axis_boundaries=(0, 400)\n",
    ")\n",
    "plot_histogram(\n",
    "    df=peaks[peaks[\"In event\"] == \"sequential\"],\n",
    "    column=\"FHW symmetry score\",\n",
    "    title=\"Distribution of Peak Symmetry Scores\",\n",
    "    ylabel=\"Number of Peaks\",\n",
    "    bin_count=30\n",
    ")"
   ]
  },
  {
   "cell_type": "markdown",
   "id": "be603562",
   "metadata": {},
   "source": [
    "### Cell-cell communication speed"
   ]
  },
  {
   "cell_type": "code",
   "execution_count": null,
   "id": "84a95c9d",
   "metadata": {},
   "outputs": [],
   "source": [
    "sequential_events = events[events[\"Event type\"] == \"SequentialEvent\"].copy()\n",
    "plot_histogram(\n",
    "    df=sequential_events,\n",
    "    column=\"Average communication speed (um/s)\",\n",
    "    title=\"Distribution of Average Communication Speeds in Sequential Events\",\n",
    "    ylabel=\"Number of Events\",\n",
    "    bin_count=50,\n",
    "    filter_outliers=True,\n",
    "    outliers_bounds=(3, 3),\n",
    "    return_outliers=False,\n",
    "    x_axis_boundaries=(0, 30)\n",
    ")\n",
    "\n",
    "plot_histogram(\n",
    "    df=communications,\n",
    "    column=\"Speed (um/s)\",\n",
    "    title=\"Distribution of Cell-Cell Communication Speeds\",\n",
    "    ylabel=\"Number of Communications\",\n",
    "    bin_count=50,\n",
    "    filter_outliers=True,\n",
    "    outliers_bounds=(3, 5),\n",
    "    return_outliers=False,\n",
    ")"
   ]
  },
  {
   "cell_type": "markdown",
   "id": "8368c804",
   "metadata": {},
   "source": [
    "### Double distribution in cell-cell communication speeds"
   ]
  },
  {
   "cell_type": "code",
   "execution_count": null,
   "id": "b54cdca7",
   "metadata": {},
   "outputs": [],
   "source": [
    "def seq_events_category(n: int) -> str:\n",
    "    if n == 2:\n",
    "        return \"2\"\n",
    "    elif n == 3:\n",
    "        return \"3\"\n",
    "    elif n == 4:\n",
    "        return \"4\"\n",
    "    elif 5 <= n <= 10:\n",
    "        return \"5-10\"\n",
    "    else:\n",
    "        return \"11+\"\n",
    "\n",
    "sequential_events[\"Number of cells involved category\"] = sequential_events[\"Number of cells involved\"].apply(seq_events_category)\n",
    "\n",
    "# Assign 'Number of cells involved category' to peaks based on their sequential event\n",
    "peaks.loc[peaks[\"In event\"] == \"sequential\", \"Number of cells involved category\"] = (\n",
    "    peaks.loc[peaks[\"In event\"] == \"sequential\", \"Event ID\"]\n",
    "    .map(sequential_events.set_index(\"Event ID\")[\"Number of cells involved category\"])\n",
    ")\n",
    "\n",
    "# Assign 'Number of cells involved category' to communications based on their Event ID\n",
    "communications[\"Number of cells involved category\"] = (\n",
    "    communications[\"Event ID\"].map(sequential_events.set_index(\"Event ID\")[\"Number of cells involved category\"])\n",
    ")"
   ]
  },
  {
   "cell_type": "code",
   "execution_count": null,
   "id": "9bd6e126",
   "metadata": {},
   "outputs": [],
   "source": [
    "communications[\"Speed category\"] = communications[\"Speed (um/s)\"].apply(lambda x: \"High speed\" if x > 15 else \"Low speed\")\n",
    "plot_pie_chart(\n",
    "    df=communications,\n",
    "    column=\"Number of cells involved category\",\n",
    "    title=\"Cell-Cell Communication Involvement\"\n",
    ")\n",
    "plot_pie_chart(\n",
    "    df=communications[communications[\"Speed category\"] == \"High speed\"],\n",
    "    column=\"Number of cells involved category\",\n",
    "    title=\"High Speed Cell-Cell Communication Involvement\"\n",
    ")"
   ]
  },
  {
   "cell_type": "code",
   "execution_count": null,
   "id": "adfda43e",
   "metadata": {},
   "outputs": [],
   "source": [
    "plot_histogram(\n",
    "    df=communications[communications[\"Speed category\"] == \"High speed\"],\n",
    "    column=\"Speed (um/s)\",\n",
    "    title=\"Distribution of High Speed Cell-Cell Communication Speeds\",\n",
    "    ylabel=\"Number of Communications\",\n",
    "    bin_count=30,\n",
    "    filter_outliers=True,\n",
    "    outliers_bounds=(3, 3),\n",
    "    return_outliers=False\n",
    ")\n",
    "plot_histogram_by_group(\n",
    "    df=communications[communications[\"Speed category\"] == \"High speed\"],\n",
    "    value_column=\"Speed (um/s)\",\n",
    "    group_column=\"Number of cells involved category\",\n",
    "    title=\"Distribution of High Speed Cell-Cell Communication Speeds\",\n",
    "    ylabel=\"Number of Communications\",\n",
    "    bin_count=30,\n",
    "    filter_outliers=True,\n",
    "    outliers_bounds=(3, 3),\n",
    "    return_outliers=False,\n",
    "    multiple=\"dodge\"\n",
    ")"
   ]
  },
  {
   "cell_type": "code",
   "execution_count": null,
   "id": "7dfb164e",
   "metadata": {},
   "outputs": [],
   "source": [
    "plot_histogram_by_group(\n",
    "    df=communications[communications[\"Speed category\"] == \"High speed\"],\n",
    "    value_column=\"Event time phase (fraction of event duration)\",\n",
    "    group_column=\"Number of cells involved category\",\n",
    "    title=\"Distribution of High Speed Cell-Cell Communication Event Time Phases\",\n",
    "    ylabel=\"Number of Communications\",\n",
    "    bin_count=30,\n",
    "    palette=\"Set2\",\n",
    "    multiple=\"stack\",\n",
    "    filter_outliers=True,\n",
    "    outliers_bounds=(3, 3),\n",
    "    return_outliers=False,\n",
    "    x_axis_boundaries=None,\n",
    "    y_axis_boundaries=None\n",
    ")\n",
    "plot_histogram_by_group(\n",
    "    df=communications[communications[\"Speed category\"] == \"High speed\"],\n",
    "    value_column=\"Event recruitment phase (fraction of involved cells)\",\n",
    "    group_column=\"Number of cells involved category\",\n",
    "    title=\"Distribution of High Speed Cell-Cell Communication Event Recruitment Phases\",\n",
    "    ylabel=\"Number of Communications\",\n",
    "    bin_count=30,\n",
    "    palette=\"Set2\",\n",
    "    multiple=\"stack\",\n",
    "    filter_outliers=True,\n",
    "    outliers_bounds=(3, 3),\n",
    "    return_outliers=False,\n",
    "    x_axis_boundaries=None,\n",
    "    y_axis_boundaries=None,\n",
    ")"
   ]
  },
  {
   "cell_type": "code",
   "execution_count": null,
   "id": "898adfe3",
   "metadata": {},
   "outputs": [],
   "source": [
    "visualize_image(\n",
    "    image_source=control_paths,\n",
    "    image_name=\"cell-mapping/high_speed_cells_overlay.png\",\n",
    "    title=\"Cell Mapping with High Speed Cells Overlay\",\n",
    "    figsize=(5, 6)\n",
    ")\n",
    "visualize_image(\n",
    "    image_source=control_paths,\n",
    "    image_name=\"cell-mapping/high_speed_origin_cells_overlay.png\",\n",
    "    title=\"Cell Mapping with High Speed Origin Cells Overlay\",\n",
    "    figsize=(5, 6)\n",
    ")"
   ]
  },
  {
   "cell_type": "code",
   "execution_count": null,
   "id": "cdfbbebf",
   "metadata": {},
   "outputs": [],
   "source": [
    "display(communications[communications[\"Speed category\"] == \"High speed\"])\n",
    "\n",
    "counts = (\n",
    "    communications\n",
    "    .groupby([\"Origin cell ID\", \"Speed category\"], dropna=False)\n",
    "    .size()\n",
    "    .unstack(\"Speed category\", fill_value=0)\n",
    ")\n",
    "display(counts)\n",
    "out = cells.copy()\n",
    "out = out.merge(\n",
    "    counts,\n",
    "    left_on=\"Cell ID\",\n",
    "    right_index=True,\n",
    "    how=\"left\"\n",
    ").dropna()\n",
    "display(out)\n",
    "\n",
    "plot_scatter_size_coded(\n",
    "    df=out,\n",
    "    x_col=\"High speed\",\n",
    "    y_col=\"Low speed\"\n",
    ")\n",
    "\n"
   ]
  },
  {
   "cell_type": "markdown",
   "id": "c5ff6260",
   "metadata": {},
   "source": [
    "### Number of cells involved per sequential events"
   ]
  },
  {
   "cell_type": "code",
   "execution_count": null,
   "id": "309e2430",
   "metadata": {},
   "outputs": [],
   "source": [
    "plot_histogram(\n",
    "    df=sequential_events,\n",
    "    column=\"Number of cells involved\",\n",
    "    title=\"Distribution of Number of Cells Involved in Sequential Events\",\n",
    "    ylabel=\"Number of Events\",\n",
    "    bin_width=1,\n",
    "    filter_outliers=True,\n",
    "    outliers_bounds=(3, 3),\n",
    ")"
   ]
  },
  {
   "cell_type": "markdown",
   "id": "adc76c75",
   "metadata": {},
   "source": [
    "### Influence of cell count per event on statistics"
   ]
  },
  {
   "cell_type": "code",
   "execution_count": null,
   "id": "f1b715a5",
   "metadata": {},
   "outputs": [],
   "source": [
    "plot_histogram_by_group(\n",
    "    df=peaks[peaks[\"In event\"] == \"sequential\"],\n",
    "    value_column=\"Duration (s)\",\n",
    "    group_column=\"Number of cells involved category\",\n",
    "    title=\"Distribution of Peak Durations by Number of Cells Involved in Sequential Events\",\n",
    "    ylabel=\"Number of Peaks\",\n",
    "    bin_width=3,\n",
    "    multiple=\"layer\",\n",
    "    palette=\"Set2\",\n",
    "    filter_outliers=True,\n",
    "    outliers_bounds=(1.5, 3.5),\n",
    "    return_outliers=False,\n",
    "    x_axis_boundaries=(0, 250)\n",
    ")\n",
    "plot_histogram_by_group(\n",
    "    df=peaks[peaks[\"In event\"] == \"sequential\"],\n",
    "    value_column=\"Prominence (noise std units)\",\n",
    "    group_column=\"Number of cells involved category\",\n",
    "    title=\"Distribution of Peak Prominences by Number of Cells Involved in Sequential Events\",\n",
    "    ylabel=\"Number of Peaks\",\n",
    "    bin_width=3,\n",
    "    multiple=\"layer\",\n",
    "    palette=\"Set2\",\n",
    "    filter_outliers=True,\n",
    "    outliers_bounds=(1.5, 3.5),\n",
    "    return_outliers=False,\n",
    "    x_axis_boundaries=(0, 400)\n",
    ")\n",
    "plot_histogram_by_group(\n",
    "    df=peaks[peaks[\"In event\"] == \"sequential\"],\n",
    "    value_column=\"FHW symmetry score\",\n",
    "    group_column=\"Number of cells involved category\",\n",
    "    title=\"Distribution of Peak Symmetry Scores by Number of Cells Involved in Sequential Events\",\n",
    "    ylabel=\"Number of Peaks\",\n",
    "    bin_count=30,\n",
    "    multiple=\"layer\",\n",
    "    palette=\"Set2\"\n",
    ")"
   ]
  },
  {
   "cell_type": "code",
   "execution_count": null,
   "id": "5d3fa315",
   "metadata": {},
   "outputs": [],
   "source": [
    "plot_histogram_by_group(\n",
    "    df=sequential_events,\n",
    "    value_column=\"Average communication speed (um/s)\",\n",
    "    group_column=\"Number of cells involved category\",\n",
    "    title=\"Distribution of Average Communication Speeds by Number of Cells Involved\",\n",
    "    ylabel=\"Number of Events\",\n",
    "    bin_width=1,\n",
    "    multiple=\"layer\",\n",
    "    palette=\"Set2\",\n",
    "    filter_outliers=True,\n",
    "    outliers_bounds=(3, 3),\n",
    "    return_outliers=False,\n",
    "    x_axis_boundaries=(0, 30)\n",
    ")\n",
    "\n",
    "plot_histogram_by_group(\n",
    "    df=communications,\n",
    "    value_column=\"Speed (um/s)\",\n",
    "    group_column=\"Number of cells involved category\",\n",
    "    title=\"Distribution of Cell-Cell Communication Speeds by Number of Cells Involved in Sequential Events\",\n",
    "    ylabel=\"Number of Communications\",\n",
    "    bin_count=50,\n",
    "    multiple=\"layer\",\n",
    "    palette=\"Set2\",\n",
    "    filter_outliers=True,\n",
    "    outliers_bounds=(3, 3),\n",
    "    return_outliers=False,\n",
    "    x_axis_boundaries=(0, 30)\n",
    ")"
   ]
  },
  {
   "cell_type": "markdown",
   "id": "ee6808cf",
   "metadata": {},
   "source": [
    "### Cells Occurrences as origin in sequential events"
   ]
  },
  {
   "cell_type": "code",
   "execution_count": null,
   "id": "6218d3ca",
   "metadata": {},
   "outputs": [],
   "source": [
    "cells[\"Has origin peak\"] = cells[\"Occurrences in sequential events as origin\"].apply(lambda x: \"Has origin peak\" if x > 0 else \"No origin peak\")\n",
    "plot_pie_chart(\n",
    "    df=cells[cells[\"Occurrences in sequential events\"] > 0],\n",
    "    column=\"Has origin peak\",\n",
    "    title=\"Distribution of Number of Sequential Event Origin Peaks per Cell\",\n",
    "    palette=\"Set2\"\n",
    ")\n",
    "def origin_peak_category(n: int) -> str:\n",
    "    if n == 0:\n",
    "        return \"0\"\n",
    "    elif n == 1:\n",
    "        return \"1\"\n",
    "    elif n == 2:\n",
    "        return \"2\"\n",
    "    else:\n",
    "        return \"3+\"\n",
    "\n",
    "cells[\"Origin peak category\"] = cells[\"Occurrences in sequential events as origin\"].apply(origin_peak_category)\n",
    "\n",
    "plot_pie_chart(\n",
    "    df=cells[cells[\"Occurrences in sequential events\"] > 0],\n",
    "    column=\"Origin peak category\",\n",
    "    title=\"Distribution of Sequential Event Origin Peaks per Cell (0, 1, 2, 3+)\",\n",
    "    palette=\"Set2\"\n",
    ")\n"
   ]
  },
  {
   "cell_type": "code",
   "execution_count": null,
   "id": "72015654",
   "metadata": {},
   "outputs": [],
   "source": [
    "visualize_image(\n",
    "    image_source=control_paths,\n",
    "    image_name=\"cell-mapping/cell_Occurrences_in_origin_seq_events_overlay.png\",\n",
    "    title=\"Cell Mapping with Origin Peaks Overlay\",\n",
    "    figsize=(5, 6)\n",
    ")"
   ]
  },
  {
   "cell_type": "code",
   "execution_count": null,
   "id": "f4ac4b7e",
   "metadata": {},
   "outputs": [],
   "source": [
    "# Sum the total number of sequential origin peaks for each exact value (0, 1, 2, 3, ...)\n",
    "total_peaks_per_exact_value = (\n",
    "    cells.groupby(\"Origin peak category\")\n",
    "    [\"Occurrences in sequential events as origin\"]\n",
    "    .sum()\n",
    "    .reset_index(name=\"Total origin peaks\")\n",
    ")\n",
    "\n",
    "# Compute normalized percentage\n",
    "total_sum = total_peaks_per_exact_value[\"Total origin peaks\"].sum()\n",
    "total_peaks_per_exact_value[\"% of total\"] = (\n",
    "    total_peaks_per_exact_value[\"Total origin peaks\"] / total_sum * 100\n",
    ").round(2)\n",
    "\n",
    "plot_bar(\n",
    "    df=total_peaks_per_exact_value,\n",
    "    axis_column=\"Origin peak category\",\n",
    "    value_column=\"% of total\",\n",
    "    title=\"Distribution of Sequential Events per Cell by Number of Origin Peaks\",\n",
    "    ylabel=\"% of total sequential events\",\n",
    "    xlabel=\"Cells with N sequential event origin peaks\",\n",
    "    rotation=0\n",
    ")"
   ]
  },
  {
   "cell_type": "markdown",
   "id": "6dfbb561",
   "metadata": {},
   "source": [
    "### Connection network between cells"
   ]
  },
  {
   "cell_type": "code",
   "execution_count": null,
   "id": "a04c0966",
   "metadata": {},
   "outputs": [],
   "source": [
    "visualize_image(\n",
    "    image_source=control_paths,\n",
    "    image_name=\"cell-mapping/cell_connection_network/cell_connection_network_95.png\",\n",
    "    title=\"Cell Connection Network Graph\",\n",
    "    figsize=(7, 8)\n",
    ")"
   ]
  },
  {
   "cell_type": "markdown",
   "id": "688e3a6b",
   "metadata": {},
   "source": [
    "### Pair/Trios with high communication networks"
   ]
  },
  {
   "cell_type": "code",
   "execution_count": null,
   "id": "9cc509ab",
   "metadata": {},
   "outputs": [],
   "source": [
    "pairs_communication_df = build_neighbor_pair_stats(\n",
    "    cells_df=cells,\n",
    "    comm_df=communications,\n",
    "    dataset_col=\"dataset\",\n",
    "    cell_id_col=\"Cell ID\",\n",
    "    centroid_x_col=\"Centroid X coordinate (um)\",\n",
    "    centroid_y_col=\"Centroid Y coordinate (um)\",\n",
    "    neighbors_col=\"Neighbors (labels)\",\n",
    "    edge_cols=(\"Cell ID\", \"Neighbor ID\")\n",
    "    )\n",
    "\n",
    "plot_histogram(\n",
    "    df=pairs_communication_df,\n",
    "    column=\"n_communications\",\n",
    "    title=\"Distribution of Cell Pair Communication Frequencies\",\n",
    "    ylabel=\"Number of Cell Pairs\",\n",
    "    bin_width=1,\n",
    "    filter_outliers=False,\n",
    "    outliers_bounds=(3,3),\n",
    ")\n",
    "\n",
    "percentile_thresh = pairs_communication_df[\"n_communications\"].quantile(0.95)\n",
    "print(f\"95th percentile threshold: {percentile_thresh}\")\n",
    "\n",
    "top_pair_communication_df = pairs_communication_df[pairs_communication_df[\"n_communications\"] >= percentile_thresh].copy()\n",
    "\n",
    "origin_com = communications[\"Origin cell ID\"]\n",
    "cause_com = communications[\"Cause cell ID\"]\n",
    "communications[\"pair_key\"] = list(\n",
    "    zip(origin_com.where(origin_com <= cause_com, cause_com),\n",
    "        cause_com.where(cause_com >= origin_com, origin_com))\n",
    ")\n",
    "\n",
    "top_pair_keys = set(zip(top_pair_communication_df[\"Cell A\"], top_pair_communication_df[\"Cell B\"]))\n",
    "communications[\"from_high_comm_pair\"] = communications[\"pair_key\"].isin(top_pair_keys)\n",
    "\n",
    "peaks_in_top_comms = pd.concat([\n",
    "    communications.loc[communications[\"from_high_comm_pair\"], [\"Origin cell ID\", \"Origin cell peak ID\"]]\n",
    "        .rename(columns={\"Origin cell ID\": \"Cell ID\", \"Origin cell peak ID\": \"Peak ID\"}),\n",
    "    communications.loc[communications[\"from_high_comm_pair\"], [\"Cause cell ID\", \"Cause cell peak ID\"]]\n",
    "        .rename(columns={\"Cause cell ID\": \"Cell ID\", \"Cause cell peak ID\": \"Peak ID\"})\n",
    "], ignore_index=True).drop_duplicates()\n",
    "\n",
    "\n",
    "peaks[\"from_high_comm_pair\"] = peaks.set_index([\"Cell ID\", \"Peak ID\"]).index.isin(peaks_in_top_comms.set_index([\"Cell ID\", \"Peak ID\"]).index)"
   ]
  },
  {
   "cell_type": "code",
   "execution_count": null,
   "id": "c3ea230f",
   "metadata": {},
   "outputs": [],
   "source": [
    "cells_in_pairs = pd.Series(\n",
    "    [cell for pair in top_pair_keys for cell in pair]\n",
    ")\n",
    "\n",
    "highly_connected_cells = (\n",
    "    cells_in_pairs.value_counts()\n",
    "    .reset_index()\n",
    "    .rename(columns={\"index\": \"Cell ID\", \"count\": \"Number of highly connected pairs\"})\n",
    ")\n",
    "\n",
    "comms_high = communications.loc[communications[\"from_high_comm_pair\"], [\"Origin cell ID\", \"Cause cell ID\"]].copy()\n",
    "\n",
    "# Counts as origin and as cause\n",
    "origin_counts = comms_high[\"Origin cell ID\"].value_counts().rename(\"n_origin\")\n",
    "cause_counts = comms_high[\"Cause cell ID\"].value_counts().rename(\"n_cause\")\n",
    "\n",
    "per_cell_comm = (\n",
    "    pd.concat([origin_counts, cause_counts], axis=1)\n",
    "    .fillna(0)\n",
    "    .astype(int)\n",
    ")\n",
    "\n",
    "# Total comms involved = as origin + as cause\n",
    "per_cell_comm[\"n_communications\"] = per_cell_comm[\"n_origin\"] + per_cell_comm[\"n_cause\"]\n",
    "\n",
    "# Ratio = origin / total (safe divide)\n",
    "per_cell_comm[\"origin_ratio\"] = per_cell_comm[\"n_origin\"] / per_cell_comm[\"n_communications\"].replace({0: pd.NA})\n",
    "\n",
    "# Make Cell ID a column for merging\n",
    "per_cell_comm = per_cell_comm.reset_index().rename(columns={\"index\": \"Cell ID\"})\n",
    "\n",
    "# 3) Merge into your highly_connected_cells table\n",
    "highly_connected_cells = highly_connected_cells.merge(\n",
    "    per_cell_comm[[\"Cell ID\", \"n_communications\", \"n_origin\", \"origin_ratio\"]],\n",
    "    on=\"Cell ID\",\n",
    "    how=\"left\"\n",
    ")\n",
    "\n",
    "# Fill cells that appear in top pairs but have no comm rows (should be rare)\n",
    "highly_connected_cells[[\"n_communications\", \"n_origin\"]] = highly_connected_cells[[\"n_communications\", \"n_origin\"]].fillna(0).astype(int)\n",
    "highly_connected_cells[\"origin_ratio\"] = highly_connected_cells[\"origin_ratio\"].fillna(0.0)\n",
    "\n",
    "# (Optional) nicer column names\n",
    "highly_connected_cells = highly_connected_cells.rename(columns={\n",
    "    \"n_communications\": \"Number of communications (top pairs)\",\n",
    "    \"n_origin\": \"Number of times origin (top pairs)\",\n",
    "    \"origin_ratio\": \"Origin ratio (origin/communications)\"\n",
    "})"
   ]
  },
  {
   "cell_type": "code",
   "execution_count": null,
   "id": "7d3fe2bf",
   "metadata": {},
   "outputs": [],
   "source": [
    "plot_pie_chart(\n",
    "    df=highly_connected_cells,\n",
    "    column=\"Number of highly connected pairs\",\n",
    "    title=\"Cells involved in multiple pairs highly connected\"\n",
    ")\n",
    "\n",
    "plot_scatter_size_coded(\n",
    "    df=highly_connected_cells,\n",
    "    x_col=\"Number of highly connected pairs\",\n",
    "    y_col=\"Number of times origin (top pairs)\"\n",
    ")\n",
    "\n",
    "plot_scatter_size_coded(\n",
    "    df=highly_connected_cells,\n",
    "    x_col=\"Number of highly connected pairs\",\n",
    "    y_col=\"Number of communications (top pairs)\"\n",
    ")\n",
    "\n",
    "plot_scatter_size_coded(\n",
    "    df=highly_connected_cells,\n",
    "    x_col=\"Number of communications (top pairs)\",\n",
    "    y_col=\"Number of times origin (top pairs)\"\n",
    ")\n",
    "\n",
    "plot_scatter_size_coded(\n",
    "    df=highly_connected_cells,\n",
    "    x_col=\"Number of communications (top pairs)\",\n",
    "    y_col=\"Origin ratio (origin/communications)\"\n",
    ")\n",
    "\n",
    "plot_scatter_size_coded(\n",
    "    df=highly_connected_cells,\n",
    "    x_col=\"Number of highly connected pairs\",\n",
    "    y_col=\"Origin ratio (origin/communications)\"\n",
    ")"
   ]
  },
  {
   "cell_type": "code",
   "execution_count": null,
   "id": "5527d90e",
   "metadata": {},
   "outputs": [],
   "source": [
    "plot_points_mean_std(\n",
    "    df=highly_connected_cells,\n",
    "    x=\"Number of highly connected pairs\",\n",
    "    y=\"Origin ratio (origin/communications)\",\n",
    "    title=\"Origin Ratios (by Number of Highly Connected Pairs)\",\n",
    "    show_points=False,\n",
    "    y_axis_boundaries=(0, 1)\n",
    ")"
   ]
  },
  {
   "cell_type": "code",
   "execution_count": null,
   "id": "65636970",
   "metadata": {
    "vscode": {
     "languageId": "ruby"
    }
   },
   "outputs": [],
   "source": [
    "plot_histogram(\n",
    "    df=peaks[(peaks[\"In event\"] == \"sequential\") & (peaks[\"from_high_comm_pair\"])],\n",
    "    column=\"Duration (s)\",\n",
    "    title=\"Distribution of Peak Durations\",\n",
    "    ylabel=\"Number of Peaks\",\n",
    "    bin_width=3,\n",
    "    filter_outliers=True,\n",
    "    outliers_bounds=(3, 3),\n",
    "    return_outliers=False,\n",
    "    x_axis_boundaries=(0, 250)\n",
    ")\n",
    "plot_histogram(\n",
    "    df=peaks[(peaks[\"In event\"] == \"sequential\") & (peaks[\"from_high_comm_pair\"])],\n",
    "    column=\"Prominence (noise std units)\",\n",
    "    title=\"Distribution of Peak Prominences\",\n",
    "    ylabel=\"Number of Peaks\",\n",
    "    bin_width=3,\n",
    "    filter_outliers=True,\n",
    "    outliers_bounds=(3, 3),\n",
    "    return_outliers=False,\n",
    "    x_axis_boundaries=(0, 400)\n",
    ")\n",
    "plot_histogram(\n",
    "    df=peaks[(peaks[\"In event\"] == \"sequential\") & (peaks[\"from_high_comm_pair\"])],\n",
    "    column=\"FHW symmetry score\",\n",
    "    title=\"Distribution of Peak Symmetry Scores\",\n",
    "    ylabel=\"Number of Peaks\",\n",
    "    bin_count=30\n",
    ")\n",
    "plot_histogram(\n",
    "    df=communications[communications[\"from_high_comm_pair\"]],\n",
    "    column=\"Speed (um/s)\",\n",
    "    title=\"Distribution of Communication Speeds\",\n",
    "    ylabel=\"Number of Communications\",\n",
    "    bin_width=1,\n",
    "    filter_outliers=True,\n",
    "    outliers_bounds=(3, 3),\n",
    "    return_outliers=False\n",
    ")"
   ]
  },
  {
   "cell_type": "code",
   "execution_count": null,
   "id": "41f88976",
   "metadata": {
    "vscode": {
     "languageId": "ruby"
    }
   },
   "outputs": [],
   "source": [
    "plot_histogram_by_group(\n",
    "    df=peaks[peaks[\"In event\"] == \"sequential\"],\n",
    "    value_column=\"Duration (s)\",\n",
    "    group_column=\"from_high_comm_pair\",\n",
    "    title=\"Distribution of Peak Durations by Number of Cells Involved in Sequential Events\",\n",
    "    ylabel=\"Number of Peaks\",\n",
    "    bin_width=3,\n",
    "    multiple=\"layer\",\n",
    "    palette=\"Set2\",\n",
    "    filter_outliers=True,\n",
    "    outliers_bounds=(3, 3),\n",
    "    return_outliers=False,\n",
    "    x_axis_boundaries=(0, 250)\n",
    ")\n",
    "plot_histogram_by_group(\n",
    "    df=peaks[peaks[\"In event\"] == \"sequential\"],\n",
    "    value_column=\"Prominence (noise std units)\",\n",
    "    group_column=\"from_high_comm_pair\",\n",
    "    title=\"Distribution of Peak Prominences by Number of Cells Involved in Sequential Events\",\n",
    "    ylabel=\"Number of Peaks\",\n",
    "    bin_width=3,\n",
    "    multiple=\"layer\",\n",
    "    palette=\"Set2\",\n",
    "    filter_outliers=True,\n",
    "    outliers_bounds=(3, 3),\n",
    "    return_outliers=False,\n",
    "    x_axis_boundaries=(0, 400)\n",
    ")\n",
    "plot_histogram_by_group(\n",
    "    df=peaks[peaks[\"In event\"] == \"sequential\"],\n",
    "    value_column=\"FHW symmetry score\",\n",
    "    group_column=\"from_high_comm_pair\",\n",
    "    title=\"Distribution of Peak Symmetry Scores by Number of Cells Involved in Sequential Events\",\n",
    "    ylabel=\"Number of Peaks\",\n",
    "    bin_count=30,\n",
    "    multiple=\"layer\",\n",
    "    palette=\"Set2\"\n",
    ")\n",
    "plot_histogram_by_group(\n",
    "    df=communications,\n",
    "    value_column=\"Speed (um/s)\",\n",
    "    group_column=\"from_high_comm_pair\",\n",
    "    title=\"Distribution of Communication Speeds by Number of Cells Involved in Sequential Events\",\n",
    "    ylabel=\"Number of Communications\",\n",
    "    bin_width=1,\n",
    "    multiple=\"layer\",\n",
    "    palette=\"Set2\",\n",
    "    filter_outliers=True,\n",
    "    outliers_bounds=(3, 3),\n",
    "    return_outliers=False\n",
    ")"
   ]
  },
  {
   "cell_type": "markdown",
   "id": "3d4aeeff",
   "metadata": {},
   "source": [
    "## INDIVIDUAL EVENTS"
   ]
  },
  {
   "cell_type": "markdown",
   "id": "82a57449",
   "metadata": {},
   "source": [
    "### Cells Occurrences in individual events"
   ]
  },
  {
   "cell_type": "code",
   "execution_count": null,
   "id": "a27d3e07",
   "metadata": {},
   "outputs": [],
   "source": [
    "cells[\"Involved in individual event\"] = cells[\"Occurrences in individual events\"].apply(lambda x: \"Involved in individual event\" if x > 0 else \"Not involved in individual event\")\n",
    "\n",
    "plot_pie_chart(\n",
    "    df=cells,\n",
    "    column=\"Involved in individual event\",\n",
    "    title=\"Distribution of Cells Involved in Individual Events\",\n",
    "    palette=\"Set2\"\n",
    ")\n",
    "\n",
    "def cells_category(n: int) -> str:\n",
    "    if n == 0:\n",
    "        return \"0\"\n",
    "    elif n == 1:\n",
    "        return \"1\"\n",
    "    elif n == 2:\n",
    "        return \"2\"\n",
    "    elif n == 3:\n",
    "        return \"3\"\n",
    "    else:\n",
    "        return \"4+\"\n",
    "\n",
    "cells[\"Occurrences in individual events category\"] = cells[\"Occurrences in individual events\"].apply(cells_category)\n",
    "\n",
    "plot_pie_chart(\n",
    "    df=cells,\n",
    "    column=\"Occurrences in individual events category\",\n",
    "    title=\"Distribution of Individual Event Occurrences per Cell (0, 1, 2, 3, 4+)\",\n",
    "    palette=\"Set2\"\n",
    ")"
   ]
  },
  {
   "cell_type": "code",
   "execution_count": null,
   "id": "84d0956b",
   "metadata": {},
   "outputs": [],
   "source": [
    "visualize_image(\n",
    "    image_source=control_paths,\n",
    "    image_name=\"cell-mapping/cell_occurrences_in_individual_events_overlay.png\",\n",
    "    title=\"Cell Mapping with Occurrences in Individual Events Overlay\",\n",
    "    figsize=(5, 6)\n",
    ")"
   ]
  },
  {
   "cell_type": "markdown",
   "id": "d01ae430",
   "metadata": {},
   "source": [
    "### Peaks statistics in individual events"
   ]
  },
  {
   "cell_type": "code",
   "execution_count": null,
   "id": "2ff6e532",
   "metadata": {
    "vscode": {
     "languageId": "ruby"
    }
   },
   "outputs": [],
   "source": [
    "plot_histogram(\n",
    "    df=peaks[peaks[\"In event\"] == \"individual\"],\n",
    "    column=\"Duration (s)\",\n",
    "    title=\"Distribution of Peak Durations\",\n",
    "    ylabel=\"Number of Peaks\",\n",
    "    bin_width=3,\n",
    "    filter_outliers=True,\n",
    "    outliers_bounds=(3, 3),\n",
    "    return_outliers=False,\n",
    "    x_axis_boundaries=(0, 250)\n",
    ")\n",
    "plot_histogram(\n",
    "    df=peaks[peaks[\"In event\"] == \"individual\"],\n",
    "    column=\"Prominence (noise std units)\",\n",
    "    title=\"Distribution of Peak Prominences\",\n",
    "    ylabel=\"Number of Peaks\",\n",
    "    bin_width=3,\n",
    "    filter_outliers=True,\n",
    "    outliers_bounds=(3, 3),\n",
    "    return_outliers=False,\n",
    "    x_axis_boundaries=(0, 400)\n",
    ")\n",
    "plot_histogram(\n",
    "    df=peaks[peaks[\"In event\"] == \"individual\"],\n",
    "    column=\"FHW symmetry score\",\n",
    "    title=\"Distribution of Peak Symmetry Scores\",\n",
    "    ylabel=\"Number of Peaks\",\n",
    "    bin_count=30\n",
    ")"
   ]
  },
  {
   "cell_type": "markdown",
   "id": "d0ae369e",
   "metadata": {},
   "source": [
    "### Correlation between event activity level & individual activity level"
   ]
  },
  {
   "cell_type": "code",
   "execution_count": null,
   "id": "be1dd117",
   "metadata": {},
   "outputs": [],
   "source": [
    "plot_scatter_size_coded(\n",
    "    df=cells,\n",
    "    x_col=\"Occurrences in individual events\",\n",
    "    y_col=\"Occurrences in sequential events\",\n",
    "    size_scale=20,\n",
    "    figsize=(9, 7)\n",
    ")\n",
    "\n",
    "plot_points_mean_std(\n",
    "    df=cells,\n",
    "    x=\"Occurrences in individual events\",\n",
    "    y=\"Occurrences in sequential events\",\n",
    "    title=\"Cells: Individual vs Sequential Events\",\n",
    "    show_points=False,\n",
    "    filter_outliers=True,\n",
    "    outliers_bounds=(3, 3),\n",
    ")"
   ]
  },
  {
   "cell_type": "markdown",
   "id": "7b46a1d7",
   "metadata": {},
   "source": [
    "## CELLS MOTION"
   ]
  },
  {
   "cell_type": "code",
   "execution_count": null,
   "id": "8807066d",
   "metadata": {
    "vscode": {
     "languageId": "ruby"
    }
   },
   "outputs": [],
   "source": [
    "visualize_image(\n",
    "    image_source=control_paths,\n",
    "    image_name=\"cell-motion/cellmotion_comparison_overlay.png\",\n",
    "    title=\"Cell Motion Comparison Overlay\",\n",
    "    figsize=(5, 6)\n",
    ")\n",
    "\n",
    "cm = cellmotion.set_index(\"Metric\")[\"Value\"]\n",
    "print(\"Number of cells:\")\n",
    "print(f\"- Hoechst image taken at t=0: {int(cm['n_cells_t0'])}\")\n",
    "print(f\"- Hoechst image taken at t=1801: {int(cm['n_cells_t1'])}\")\n",
    "print(\n",
    "    f\"- Number of cells difference: absolute {int(cm['cell_count_diff_abs'])}, \"\n",
    "    f\"relative {cm['cell_count_diff_rel'] * 100:.2f}%\"\n",
    ")\n",
    "print(\"Pixel-level cell segmentation:\")\n",
    "print(f\"- Total number of pixels in image: {int(cm['total_pixels'])}\")\n",
    "print(f\"- Pixels segmented as cell at t=0: {int(cm['pixels_t0'])}\")\n",
    "print(f\"- Pixels segmented as cell at t=1801: {int(cm['pixels_t1'])}\")\n",
    "print(f\"- Overlapping pixels between t=0 and t=1801: {int(cm['pixels_both'])}\"\n",
    "      f\"({cm['pixels_both_rel'] * 100:.2f}% of total)\")\n",
    "print(f\"- Pixels exclusive to t=0: {int(cm['pixels_only_t0'])} \"\n",
    "      f\"({cm['pixels_only_t0_rel'] * 100:.2f}% of total)\")\n",
    "print(f\"- Pixels exclusive to t=1801: {int(cm['pixels_only_t1'])} \"\n",
    "      f\"({cm['pixels_only_t1_rel'] * 100:.2f}% of total)\")\n"
   ]
  }
 ],
 "metadata": {
  "kernelspec": {
   "display_name": ".venv",
   "language": "python",
   "name": "python3"
  },
  "language_info": {
   "codemirror_mode": {
    "name": "ipython",
    "version": 3
   },
   "file_extension": ".py",
   "mimetype": "text/x-python",
   "name": "python",
   "nbconvert_exporter": "python",
   "pygments_lexer": "ipython3",
   "version": "3.10.11"
  }
 },
 "nbformat": 4,
 "nbformat_minor": 5
}
