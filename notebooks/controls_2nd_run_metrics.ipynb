{
 "cells": [
  {
   "cell_type": "markdown",
   "id": "e712db03",
   "metadata": {},
   "source": [
    "## 🔬 Control Dataset Overview\n",
    "\n",
    "This notebook analyzes spontaneous calcium activity in BxPC3 pancreatic cancer cells imaged under identical control conditions across six image sequences.\n",
    "\n",
    "**Experimental context:**\n",
    "- Cell line: BxPC3 (pancreatic ductal adenocarcinoma)\n",
    "- Imaging: DIV2, seeded at 1.2 million cells per well (high confluence)\n",
    "- Ca²⁺ dye: Fluo-4 AM (standard loading protocol)\n",
    "- Nuclei: Hoechst 33342 (10 µg/mL)\n",
    "- Acquisition: FITC, 1 Hz, 30 ms exposure for 30 minutes\n",
    "\n",
    "This is the **second run** of spontaneous activity under control conditions. \n",
    "\n",
    "**Goal: Determine if the second imaging run can serve as reliable control data or if phototoxicity, photobleaching, or altered culture conditions (room temperature exposure without optimal CO₂ and humidity) have significantly impacted cellular behavior.**"
   ]
  },
  {
   "cell_type": "markdown",
   "id": "afd072b2",
   "metadata": {},
   "source": [
    "## ⚙️ Setup & Utilities\n",
    "\n",
    "Standard scientific libraries (Pandas, NumPy, Seaborn) and custom plotting utilities are loaded. These functions enable streamlined metric visualization and layout control across multiple datasets."
   ]
  },
  {
   "cell_type": "code",
   "execution_count": 1,
   "id": "9827a2d9",
   "metadata": {},
   "outputs": [
    {
     "ename": "FileNotFoundError",
     "evalue": "[Errno 2] No such file or directory: 'D:/Mateo/20250326/Output/IS2/peaks.csv'",
     "output_type": "error",
     "traceback": [
      "\u001b[1;31m---------------------------------------------------------------------------\u001b[0m",
      "\u001b[1;31mFileNotFoundError\u001b[0m                         Traceback (most recent call last)",
      "Cell \u001b[1;32mIn[1], line 36\u001b[0m\n\u001b[0;32m     27\u001b[0m control_paths \u001b[38;5;241m=\u001b[39m {\n\u001b[0;32m     28\u001b[0m     \u001b[38;5;124m\"\u001b[39m\u001b[38;5;124m20250326 - IS2\u001b[39m\u001b[38;5;124m\"\u001b[39m: \u001b[38;5;124m\"\u001b[39m\u001b[38;5;124mD:/Mateo/20250326/Output/IS2\u001b[39m\u001b[38;5;124m\"\u001b[39m,\n\u001b[0;32m     29\u001b[0m     \u001b[38;5;124m\"\u001b[39m\u001b[38;5;124m20250326 - IS4\u001b[39m\u001b[38;5;124m\"\u001b[39m: \u001b[38;5;124m\"\u001b[39m\u001b[38;5;124mD:/Mateo/20250326/Output/IS4\u001b[39m\u001b[38;5;124m\"\u001b[39m,\n\u001b[1;32m   (...)\u001b[0m\n\u001b[0;32m     32\u001b[0m     \u001b[38;5;124m\"\u001b[39m\u001b[38;5;124m20250409 - IS12\u001b[39m\u001b[38;5;124m\"\u001b[39m: \u001b[38;5;124m\"\u001b[39m\u001b[38;5;124mD:/Mateo/20250409/Output/IS12\u001b[39m\u001b[38;5;124m\"\u001b[39m,\n\u001b[0;32m     33\u001b[0m }\n\u001b[0;32m     35\u001b[0m \u001b[38;5;66;03m# Load and merge datasets\u001b[39;00m\n\u001b[1;32m---> 36\u001b[0m peaks \u001b[38;5;241m=\u001b[39m \u001b[43mload_and_merge_datasets\u001b[49m\u001b[43m(\u001b[49m\u001b[43mcontrol_paths\u001b[49m\u001b[38;5;241;43m=\u001b[39;49m\u001b[43mcontrol_paths\u001b[49m\u001b[43m,\u001b[49m\u001b[43m \u001b[49m\u001b[43mfile_name\u001b[49m\u001b[38;5;241;43m=\u001b[39;49m\u001b[38;5;124;43m\"\u001b[39;49m\u001b[38;5;124;43mpeaks.csv\u001b[39;49m\u001b[38;5;124;43m\"\u001b[39;49m\u001b[43m)\u001b[49m\n\u001b[0;32m     37\u001b[0m cells \u001b[38;5;241m=\u001b[39m load_and_merge_datasets(control_paths\u001b[38;5;241m=\u001b[39mcontrol_paths, file_name\u001b[38;5;241m=\u001b[39m\u001b[38;5;124m\"\u001b[39m\u001b[38;5;124mcells.csv\u001b[39m\u001b[38;5;124m\"\u001b[39m)\n\u001b[0;32m     38\u001b[0m events \u001b[38;5;241m=\u001b[39m load_and_merge_datasets(control_paths\u001b[38;5;241m=\u001b[39mcontrol_paths, file_name\u001b[38;5;241m=\u001b[39m\u001b[38;5;124m\"\u001b[39m\u001b[38;5;124mevents.csv\u001b[39m\u001b[38;5;124m\"\u001b[39m)\n",
      "File \u001b[1;32mc:\\Users\\poseidon\\OneDrive\\Documents\\01_ETHZ\\Master_Degree\\Spring_Semester_2025\\Master_Thesis\\Coding\\Image_analysis\\src\\calcium_activity_characterization\\analysis\\loaders.py:17\u001b[0m, in \u001b[0;36mload_and_merge_datasets\u001b[1;34m(control_paths, file_name)\u001b[0m\n\u001b[0;32m     15\u001b[0m dfs \u001b[38;5;241m=\u001b[39m []\n\u001b[0;32m     16\u001b[0m \u001b[38;5;28;01mfor\u001b[39;00m label, path \u001b[38;5;129;01min\u001b[39;00m control_paths\u001b[38;5;241m.\u001b[39mitems():\n\u001b[1;32m---> 17\u001b[0m     df \u001b[38;5;241m=\u001b[39m \u001b[43mpd\u001b[49m\u001b[38;5;241;43m.\u001b[39;49m\u001b[43mread_csv\u001b[49m\u001b[43m(\u001b[49m\u001b[38;5;124;43mf\u001b[39;49m\u001b[38;5;124;43m\"\u001b[39;49m\u001b[38;5;132;43;01m{\u001b[39;49;00m\u001b[43mpath\u001b[49m\u001b[38;5;132;43;01m}\u001b[39;49;00m\u001b[38;5;124;43m/\u001b[39;49m\u001b[38;5;132;43;01m{\u001b[39;49;00m\u001b[43mfile_name\u001b[49m\u001b[38;5;132;43;01m}\u001b[39;49;00m\u001b[38;5;124;43m\"\u001b[39;49m\u001b[43m)\u001b[49m\n\u001b[0;32m     18\u001b[0m     df[\u001b[38;5;124m\"\u001b[39m\u001b[38;5;124mdataset\u001b[39m\u001b[38;5;124m\"\u001b[39m] \u001b[38;5;241m=\u001b[39m label\n\u001b[0;32m     19\u001b[0m     dfs\u001b[38;5;241m.\u001b[39mappend(df)\n",
      "File \u001b[1;32mc:\\Users\\poseidon\\OneDrive\\Documents\\01_ETHZ\\Master_Degree\\Spring_Semester_2025\\Master_Thesis\\Coding\\Image_analysis\\.venv\\lib\\site-packages\\pandas\\io\\parsers\\readers.py:1026\u001b[0m, in \u001b[0;36mread_csv\u001b[1;34m(filepath_or_buffer, sep, delimiter, header, names, index_col, usecols, dtype, engine, converters, true_values, false_values, skipinitialspace, skiprows, skipfooter, nrows, na_values, keep_default_na, na_filter, verbose, skip_blank_lines, parse_dates, infer_datetime_format, keep_date_col, date_parser, date_format, dayfirst, cache_dates, iterator, chunksize, compression, thousands, decimal, lineterminator, quotechar, quoting, doublequote, escapechar, comment, encoding, encoding_errors, dialect, on_bad_lines, delim_whitespace, low_memory, memory_map, float_precision, storage_options, dtype_backend)\u001b[0m\n\u001b[0;32m   1013\u001b[0m kwds_defaults \u001b[38;5;241m=\u001b[39m _refine_defaults_read(\n\u001b[0;32m   1014\u001b[0m     dialect,\n\u001b[0;32m   1015\u001b[0m     delimiter,\n\u001b[1;32m   (...)\u001b[0m\n\u001b[0;32m   1022\u001b[0m     dtype_backend\u001b[38;5;241m=\u001b[39mdtype_backend,\n\u001b[0;32m   1023\u001b[0m )\n\u001b[0;32m   1024\u001b[0m kwds\u001b[38;5;241m.\u001b[39mupdate(kwds_defaults)\n\u001b[1;32m-> 1026\u001b[0m \u001b[38;5;28;01mreturn\u001b[39;00m \u001b[43m_read\u001b[49m\u001b[43m(\u001b[49m\u001b[43mfilepath_or_buffer\u001b[49m\u001b[43m,\u001b[49m\u001b[43m \u001b[49m\u001b[43mkwds\u001b[49m\u001b[43m)\u001b[49m\n",
      "File \u001b[1;32mc:\\Users\\poseidon\\OneDrive\\Documents\\01_ETHZ\\Master_Degree\\Spring_Semester_2025\\Master_Thesis\\Coding\\Image_analysis\\.venv\\lib\\site-packages\\pandas\\io\\parsers\\readers.py:620\u001b[0m, in \u001b[0;36m_read\u001b[1;34m(filepath_or_buffer, kwds)\u001b[0m\n\u001b[0;32m    617\u001b[0m _validate_names(kwds\u001b[38;5;241m.\u001b[39mget(\u001b[38;5;124m\"\u001b[39m\u001b[38;5;124mnames\u001b[39m\u001b[38;5;124m\"\u001b[39m, \u001b[38;5;28;01mNone\u001b[39;00m))\n\u001b[0;32m    619\u001b[0m \u001b[38;5;66;03m# Create the parser.\u001b[39;00m\n\u001b[1;32m--> 620\u001b[0m parser \u001b[38;5;241m=\u001b[39m TextFileReader(filepath_or_buffer, \u001b[38;5;241m*\u001b[39m\u001b[38;5;241m*\u001b[39mkwds)\n\u001b[0;32m    622\u001b[0m \u001b[38;5;28;01mif\u001b[39;00m chunksize \u001b[38;5;129;01mor\u001b[39;00m iterator:\n\u001b[0;32m    623\u001b[0m     \u001b[38;5;28;01mreturn\u001b[39;00m parser\n",
      "File \u001b[1;32mc:\\Users\\poseidon\\OneDrive\\Documents\\01_ETHZ\\Master_Degree\\Spring_Semester_2025\\Master_Thesis\\Coding\\Image_analysis\\.venv\\lib\\site-packages\\pandas\\io\\parsers\\readers.py:1620\u001b[0m, in \u001b[0;36mTextFileReader.__init__\u001b[1;34m(self, f, engine, **kwds)\u001b[0m\n\u001b[0;32m   1617\u001b[0m     \u001b[38;5;28mself\u001b[39m\u001b[38;5;241m.\u001b[39moptions[\u001b[38;5;124m\"\u001b[39m\u001b[38;5;124mhas_index_names\u001b[39m\u001b[38;5;124m\"\u001b[39m] \u001b[38;5;241m=\u001b[39m kwds[\u001b[38;5;124m\"\u001b[39m\u001b[38;5;124mhas_index_names\u001b[39m\u001b[38;5;124m\"\u001b[39m]\n\u001b[0;32m   1619\u001b[0m \u001b[38;5;28mself\u001b[39m\u001b[38;5;241m.\u001b[39mhandles: IOHandles \u001b[38;5;241m|\u001b[39m \u001b[38;5;28;01mNone\u001b[39;00m \u001b[38;5;241m=\u001b[39m \u001b[38;5;28;01mNone\u001b[39;00m\n\u001b[1;32m-> 1620\u001b[0m \u001b[38;5;28mself\u001b[39m\u001b[38;5;241m.\u001b[39m_engine \u001b[38;5;241m=\u001b[39m \u001b[38;5;28;43mself\u001b[39;49m\u001b[38;5;241;43m.\u001b[39;49m\u001b[43m_make_engine\u001b[49m\u001b[43m(\u001b[49m\u001b[43mf\u001b[49m\u001b[43m,\u001b[49m\u001b[43m \u001b[49m\u001b[38;5;28;43mself\u001b[39;49m\u001b[38;5;241;43m.\u001b[39;49m\u001b[43mengine\u001b[49m\u001b[43m)\u001b[49m\n",
      "File \u001b[1;32mc:\\Users\\poseidon\\OneDrive\\Documents\\01_ETHZ\\Master_Degree\\Spring_Semester_2025\\Master_Thesis\\Coding\\Image_analysis\\.venv\\lib\\site-packages\\pandas\\io\\parsers\\readers.py:1880\u001b[0m, in \u001b[0;36mTextFileReader._make_engine\u001b[1;34m(self, f, engine)\u001b[0m\n\u001b[0;32m   1878\u001b[0m     \u001b[38;5;28;01mif\u001b[39;00m \u001b[38;5;124m\"\u001b[39m\u001b[38;5;124mb\u001b[39m\u001b[38;5;124m\"\u001b[39m \u001b[38;5;129;01mnot\u001b[39;00m \u001b[38;5;129;01min\u001b[39;00m mode:\n\u001b[0;32m   1879\u001b[0m         mode \u001b[38;5;241m+\u001b[39m\u001b[38;5;241m=\u001b[39m \u001b[38;5;124m\"\u001b[39m\u001b[38;5;124mb\u001b[39m\u001b[38;5;124m\"\u001b[39m\n\u001b[1;32m-> 1880\u001b[0m \u001b[38;5;28mself\u001b[39m\u001b[38;5;241m.\u001b[39mhandles \u001b[38;5;241m=\u001b[39m \u001b[43mget_handle\u001b[49m\u001b[43m(\u001b[49m\n\u001b[0;32m   1881\u001b[0m \u001b[43m    \u001b[49m\u001b[43mf\u001b[49m\u001b[43m,\u001b[49m\n\u001b[0;32m   1882\u001b[0m \u001b[43m    \u001b[49m\u001b[43mmode\u001b[49m\u001b[43m,\u001b[49m\n\u001b[0;32m   1883\u001b[0m \u001b[43m    \u001b[49m\u001b[43mencoding\u001b[49m\u001b[38;5;241;43m=\u001b[39;49m\u001b[38;5;28;43mself\u001b[39;49m\u001b[38;5;241;43m.\u001b[39;49m\u001b[43moptions\u001b[49m\u001b[38;5;241;43m.\u001b[39;49m\u001b[43mget\u001b[49m\u001b[43m(\u001b[49m\u001b[38;5;124;43m\"\u001b[39;49m\u001b[38;5;124;43mencoding\u001b[39;49m\u001b[38;5;124;43m\"\u001b[39;49m\u001b[43m,\u001b[49m\u001b[43m \u001b[49m\u001b[38;5;28;43;01mNone\u001b[39;49;00m\u001b[43m)\u001b[49m\u001b[43m,\u001b[49m\n\u001b[0;32m   1884\u001b[0m \u001b[43m    \u001b[49m\u001b[43mcompression\u001b[49m\u001b[38;5;241;43m=\u001b[39;49m\u001b[38;5;28;43mself\u001b[39;49m\u001b[38;5;241;43m.\u001b[39;49m\u001b[43moptions\u001b[49m\u001b[38;5;241;43m.\u001b[39;49m\u001b[43mget\u001b[49m\u001b[43m(\u001b[49m\u001b[38;5;124;43m\"\u001b[39;49m\u001b[38;5;124;43mcompression\u001b[39;49m\u001b[38;5;124;43m\"\u001b[39;49m\u001b[43m,\u001b[49m\u001b[43m \u001b[49m\u001b[38;5;28;43;01mNone\u001b[39;49;00m\u001b[43m)\u001b[49m\u001b[43m,\u001b[49m\n\u001b[0;32m   1885\u001b[0m \u001b[43m    \u001b[49m\u001b[43mmemory_map\u001b[49m\u001b[38;5;241;43m=\u001b[39;49m\u001b[38;5;28;43mself\u001b[39;49m\u001b[38;5;241;43m.\u001b[39;49m\u001b[43moptions\u001b[49m\u001b[38;5;241;43m.\u001b[39;49m\u001b[43mget\u001b[49m\u001b[43m(\u001b[49m\u001b[38;5;124;43m\"\u001b[39;49m\u001b[38;5;124;43mmemory_map\u001b[39;49m\u001b[38;5;124;43m\"\u001b[39;49m\u001b[43m,\u001b[49m\u001b[43m \u001b[49m\u001b[38;5;28;43;01mFalse\u001b[39;49;00m\u001b[43m)\u001b[49m\u001b[43m,\u001b[49m\n\u001b[0;32m   1886\u001b[0m \u001b[43m    \u001b[49m\u001b[43mis_text\u001b[49m\u001b[38;5;241;43m=\u001b[39;49m\u001b[43mis_text\u001b[49m\u001b[43m,\u001b[49m\n\u001b[0;32m   1887\u001b[0m \u001b[43m    \u001b[49m\u001b[43merrors\u001b[49m\u001b[38;5;241;43m=\u001b[39;49m\u001b[38;5;28;43mself\u001b[39;49m\u001b[38;5;241;43m.\u001b[39;49m\u001b[43moptions\u001b[49m\u001b[38;5;241;43m.\u001b[39;49m\u001b[43mget\u001b[49m\u001b[43m(\u001b[49m\u001b[38;5;124;43m\"\u001b[39;49m\u001b[38;5;124;43mencoding_errors\u001b[39;49m\u001b[38;5;124;43m\"\u001b[39;49m\u001b[43m,\u001b[49m\u001b[43m \u001b[49m\u001b[38;5;124;43m\"\u001b[39;49m\u001b[38;5;124;43mstrict\u001b[39;49m\u001b[38;5;124;43m\"\u001b[39;49m\u001b[43m)\u001b[49m\u001b[43m,\u001b[49m\n\u001b[0;32m   1888\u001b[0m \u001b[43m    \u001b[49m\u001b[43mstorage_options\u001b[49m\u001b[38;5;241;43m=\u001b[39;49m\u001b[38;5;28;43mself\u001b[39;49m\u001b[38;5;241;43m.\u001b[39;49m\u001b[43moptions\u001b[49m\u001b[38;5;241;43m.\u001b[39;49m\u001b[43mget\u001b[49m\u001b[43m(\u001b[49m\u001b[38;5;124;43m\"\u001b[39;49m\u001b[38;5;124;43mstorage_options\u001b[39;49m\u001b[38;5;124;43m\"\u001b[39;49m\u001b[43m,\u001b[49m\u001b[43m \u001b[49m\u001b[38;5;28;43;01mNone\u001b[39;49;00m\u001b[43m)\u001b[49m\u001b[43m,\u001b[49m\n\u001b[0;32m   1889\u001b[0m \u001b[43m\u001b[49m\u001b[43m)\u001b[49m\n\u001b[0;32m   1890\u001b[0m \u001b[38;5;28;01massert\u001b[39;00m \u001b[38;5;28mself\u001b[39m\u001b[38;5;241m.\u001b[39mhandles \u001b[38;5;129;01mis\u001b[39;00m \u001b[38;5;129;01mnot\u001b[39;00m \u001b[38;5;28;01mNone\u001b[39;00m\n\u001b[0;32m   1891\u001b[0m f \u001b[38;5;241m=\u001b[39m \u001b[38;5;28mself\u001b[39m\u001b[38;5;241m.\u001b[39mhandles\u001b[38;5;241m.\u001b[39mhandle\n",
      "File \u001b[1;32mc:\\Users\\poseidon\\OneDrive\\Documents\\01_ETHZ\\Master_Degree\\Spring_Semester_2025\\Master_Thesis\\Coding\\Image_analysis\\.venv\\lib\\site-packages\\pandas\\io\\common.py:873\u001b[0m, in \u001b[0;36mget_handle\u001b[1;34m(path_or_buf, mode, encoding, compression, memory_map, is_text, errors, storage_options)\u001b[0m\n\u001b[0;32m    868\u001b[0m \u001b[38;5;28;01melif\u001b[39;00m \u001b[38;5;28misinstance\u001b[39m(handle, \u001b[38;5;28mstr\u001b[39m):\n\u001b[0;32m    869\u001b[0m     \u001b[38;5;66;03m# Check whether the filename is to be opened in binary mode.\u001b[39;00m\n\u001b[0;32m    870\u001b[0m     \u001b[38;5;66;03m# Binary mode does not support 'encoding' and 'newline'.\u001b[39;00m\n\u001b[0;32m    871\u001b[0m     \u001b[38;5;28;01mif\u001b[39;00m ioargs\u001b[38;5;241m.\u001b[39mencoding \u001b[38;5;129;01mand\u001b[39;00m \u001b[38;5;124m\"\u001b[39m\u001b[38;5;124mb\u001b[39m\u001b[38;5;124m\"\u001b[39m \u001b[38;5;129;01mnot\u001b[39;00m \u001b[38;5;129;01min\u001b[39;00m ioargs\u001b[38;5;241m.\u001b[39mmode:\n\u001b[0;32m    872\u001b[0m         \u001b[38;5;66;03m# Encoding\u001b[39;00m\n\u001b[1;32m--> 873\u001b[0m         handle \u001b[38;5;241m=\u001b[39m \u001b[38;5;28;43mopen\u001b[39;49m\u001b[43m(\u001b[49m\n\u001b[0;32m    874\u001b[0m \u001b[43m            \u001b[49m\u001b[43mhandle\u001b[49m\u001b[43m,\u001b[49m\n\u001b[0;32m    875\u001b[0m \u001b[43m            \u001b[49m\u001b[43mioargs\u001b[49m\u001b[38;5;241;43m.\u001b[39;49m\u001b[43mmode\u001b[49m\u001b[43m,\u001b[49m\n\u001b[0;32m    876\u001b[0m \u001b[43m            \u001b[49m\u001b[43mencoding\u001b[49m\u001b[38;5;241;43m=\u001b[39;49m\u001b[43mioargs\u001b[49m\u001b[38;5;241;43m.\u001b[39;49m\u001b[43mencoding\u001b[49m\u001b[43m,\u001b[49m\n\u001b[0;32m    877\u001b[0m \u001b[43m            \u001b[49m\u001b[43merrors\u001b[49m\u001b[38;5;241;43m=\u001b[39;49m\u001b[43merrors\u001b[49m\u001b[43m,\u001b[49m\n\u001b[0;32m    878\u001b[0m \u001b[43m            \u001b[49m\u001b[43mnewline\u001b[49m\u001b[38;5;241;43m=\u001b[39;49m\u001b[38;5;124;43m\"\u001b[39;49m\u001b[38;5;124;43m\"\u001b[39;49m\u001b[43m,\u001b[49m\n\u001b[0;32m    879\u001b[0m \u001b[43m        \u001b[49m\u001b[43m)\u001b[49m\n\u001b[0;32m    880\u001b[0m     \u001b[38;5;28;01melse\u001b[39;00m:\n\u001b[0;32m    881\u001b[0m         \u001b[38;5;66;03m# Binary mode\u001b[39;00m\n\u001b[0;32m    882\u001b[0m         handle \u001b[38;5;241m=\u001b[39m \u001b[38;5;28mopen\u001b[39m(handle, ioargs\u001b[38;5;241m.\u001b[39mmode)\n",
      "\u001b[1;31mFileNotFoundError\u001b[0m: [Errno 2] No such file or directory: 'D:/Mateo/20250326/Output/IS2/peaks.csv'"
     ]
    }
   ],
   "source": [
    "# Libraries\n",
    "import seaborn as sns\n",
    "import numpy as np\n",
    "from pathlib import Path\n",
    "import sys\n",
    "\n",
    "# Add /Source to sys.path if not already present\n",
    "project_root = Path.cwd().parent\n",
    "source_path = project_root / \"src\"\n",
    "\n",
    "if source_path.exists() and str(source_path) not in sys.path:\n",
    "    sys.path.insert(0, str(source_path))\n",
    "\n",
    "# Utility functions\n",
    "from calcium_activity_characterization.analysis.visualizers import (\n",
    "    plot_histogram_by_dataset, \n",
    "    plot_pie_chart_by_dataset, \n",
    "    plot_raster,\n",
    "    plot_bar_by_dataset,\n",
    "    plot_histogram_by_group\n",
    ")\n",
    "from calcium_activity_characterization.analysis.loaders import load_and_merge_datasets\n",
    "\n",
    "sns.set(style=\"whitegrid\")\n",
    "\n",
    "# Define paths to control datasets\n",
    "control_paths = {\n",
    "    \"20250326 - IS2\": \"D:/Mateo/20250326/Output/IS2\",\n",
    "    \"20250326 - IS4\": \"D:/Mateo/20250326/Output/IS4\",\n",
    "    \"20250404 - IS2\": \"D:/Mateo/20250404/Output/IS2\",\n",
    "    \"20250409 - IS10\": \"D:/Mateo/20250409/Output/IS10\",\n",
    "    \"20250409 - IS12\": \"D:/Mateo/20250409/Output/IS12\",\n",
    "}\n",
    "\n",
    "# Load and merge datasets\n",
    "peaks = load_and_merge_datasets(control_paths=control_paths, file_name=\"peaks.csv\")\n",
    "cells = load_and_merge_datasets(control_paths=control_paths, file_name=\"cells.csv\")\n",
    "events = load_and_merge_datasets(control_paths=control_paths, file_name=\"events.csv\")"
   ]
  },
  {
   "cell_type": "markdown",
   "id": "a570e15d",
   "metadata": {},
   "source": [
    "## 🧼 Preprocessing\n",
    "\n",
    "Before visual comparison, we normalize event labels (e.g., missing `in_event` entries set to `'individual'`) and compute additional derived fields (`is_active`, `periodicity_score`) to ensure consistent comparisons across all datasets.\n",
    "\n",
    "These steps are crucial for **ensuring fair metric aggregation** and enabling downstream comparative analysis."
   ]
  },
  {
   "cell_type": "code",
   "execution_count": null,
   "id": "d25dcc86",
   "metadata": {},
   "outputs": [],
   "source": [
    "peaks[\"in_event\"] = peaks[\"in_event\"].fillna(\"individual\").str.lower()\n",
    "\n",
    "if \"is_active\" not in cells.columns:\n",
    "    cells[\"is_active\"] = cells[\"num_peaks\"].apply(lambda x: 1 if x > 0 else 0)\n",
    "\n",
    "if \"periodicity_score\" not in cells.columns:\n",
    "    cells[\"periodicity_score\"] = np.nan"
   ]
  },
  {
   "cell_type": "markdown",
   "id": "40daede9",
   "metadata": {},
   "source": [
    "### 📈 Cell Count per Dataset\n",
    "\n",
    "The number of segmented cells per dataset provides a proxy for cell density or proliferation under Acute Ach exposure.\n",
    "\n",
    "*Interpretation:*\n",
    "- todo"
   ]
  },
  {
   "cell_type": "code",
   "execution_count": null,
   "id": "af483511",
   "metadata": {},
   "outputs": [],
   "source": [
    "# Count number of cells per dataset\n",
    "cell_counts = cells.groupby(\"dataset\").size().reset_index(name=\"num_cells\")\n",
    "\n",
    "# Annotate ACH concentration from dataset name (optional)\n",
    "def extract_exposition_time(name: str) -> str:\n",
    "    if \"t=-300\" in name:\n",
    "        return \"ACH t=-300\"\n",
    "    elif \"t=+1800\" in name:\n",
    "        return \"ACH t=+1800\"\n",
    "    else:\n",
    "        return \"Unknown\"\n",
    "\n",
    "cell_counts[\"exposition_time\"] = cell_counts[\"dataset\"].apply(extract_exposition_time)\n",
    "\n",
    "plot_bar_by_dataset(\n",
    "    df=cell_counts,\n",
    "    value_column=\"num_cells\",\n",
    "    title=\"Number of Detected Cells per Dataset\",\n",
    "    xlabel=\"Dataset\",\n",
    "    ylabel=\"Cell Count\",\n",
    "    hue_column=\"exposition_time\",\n",
    "    palette=\"viridis\",\n",
    "    rotation=90\n",
    "    )"
   ]
  },
  {
   "cell_type": "markdown",
   "id": "d1ef34f3",
   "metadata": {},
   "source": [
    "## 🖼️ Raster Plot Inspection\n",
    "\n",
    "Raster plots provide a binary overview of calcium activity over time per cell.\n",
    "\n",
    "*Remarks:* \n",
    "*TODO*\n",
    "\n",
    "📌 Use these plots to **screen visually for anomalies or batch effects** before statistical analysis."
   ]
  },
  {
   "cell_type": "code",
   "execution_count": null,
   "id": "cc316ab6",
   "metadata": {},
   "outputs": [],
   "source": [
    "# Count number of events by type\n",
    "event_counts = events[\"event_type\"].value_counts()\n",
    "\n",
    "# Print nicely\n",
    "num_global = event_counts.get(\"global\", 0)\n",
    "num_sequential = event_counts.get(\"sequential\", 0)\n",
    "\n",
    "print(f\"🌐 Number of GLOBAL events: {num_global}\")\n",
    "print(f\"➡️ Number of SEQUENTIAL events: {num_sequential}\")"
   ]
  },
  {
   "cell_type": "code",
   "execution_count": null,
   "id": "eaaa0370",
   "metadata": {},
   "outputs": [],
   "source": [
    "plot_raster(\n",
    "    dataset_paths=control_paths,\n",
    "    title=\"Binary Activity Raster Plots by Dataset\"\n",
    ")"
   ]
  },
  {
   "cell_type": "markdown",
   "id": "c6d0c1fe",
   "metadata": {},
   "source": [
    "## 📊 Peak Type Distribution\n",
    "\n",
    "Pie charts quantify the proportion of detected calcium peaks classified as:\n",
    "- `individual`: isolated peaks\n",
    "- `sequential`: propagating local events\n",
    "- `global`: large-scale synchronized events\n",
    "\n",
    "*Interpretation:*\n",
    "\n",
    "*The second imaging run displays striking differences compared to the first.*\n",
    "\n",
    "- *Global events are almost entirely absent, with 4 out of 5 datasets showing **no global events**. Only one dataset (`2025-04-04 IS3`) exhibited minimal global activity.*\n",
    "\n",
    "- *Sequential and individual peaks maintain a similar ratio compared to the first run, but the absence of global events indicates an altered system-wide behavior.*\n",
    "\n",
    "*This suggests a breakdown of coordinated signaling mechanisms, likely caused by phototoxicity or environmental stress.*"
   ]
  },
  {
   "cell_type": "code",
   "execution_count": null,
   "id": "e2d54896",
   "metadata": {},
   "outputs": [],
   "source": [
    "peak_type_colors = {\n",
    "    \"global\": \"#66c2a5\",\n",
    "    \"sequential\": \"#fc8d62\",\n",
    "    \"individual\": \"#8da0cb\"\n",
    "}\n",
    "\n",
    "plot_pie_chart_by_dataset(\n",
    "    df=peaks,\n",
    "    column=\"in_event\",\n",
    "    category_order=[\"global\", \"sequential\", \"individual\"],\n",
    "    colors=peak_type_colors,\n",
    "    title=\"Distribution of Peaks by Event Type\"\n",
    ")"
   ]
  },
  {
   "cell_type": "markdown",
   "id": "7df8f5dc",
   "metadata": {},
   "source": [
    "## 📈 Peak Metrics per Event Type\n",
    "\n",
    "Metrics like **duration**, **prominence**, and **symmetry** are visualized per event type.  \n",
    "\n",
    "*Interpretation:*\n",
    "\n",
    "- *Global peaks: Only present in one dataset; insufficient for analysis.*\n",
    "\n",
    "- *Sequential peaks: Slightly longer durations (~33 frames) than in First Run; symmetry remains consistent (~0.9 ± 0.12).*\n",
    "\n",
    "- *Individual peaks: Also slightly longer (~30 frames), with similar symmetry.*\n",
    "\n",
    "*These longer durations might result from subtle shifts in intracellular calcium handling, possibly caused by phototoxic stress or under-detection of broad events misclassified as individual.*"
   ]
  },
  {
   "cell_type": "code",
   "execution_count": null,
   "id": "bec75dd3",
   "metadata": {},
   "outputs": [],
   "source": [
    "subset_peaks = peaks[peaks[\"in_event\"] == \"global\"]\n",
    "plot_histogram_by_group(\n",
    "    df=subset_peaks,\n",
    "    value_column=\"activation_duration\",\n",
    "    group_column=\"event_id\",\n",
    "    title=\"Histogram of Activation Durations for Peaks in Global Events\",\n",
    "    bin_width=3,\n",
    "    n_cols=2\n",
    ")\n",
    "plot_histogram_by_group(\n",
    "    df=subset_peaks,\n",
    "    value_column=\"prominence\",\n",
    "    group_column=\"event_id\",\n",
    "    title=\"Histogram of Prominences for Peaks in Global Events\",\n",
    "    bin_width=3,\n",
    "    n_cols=2\n",
    ")\n",
    "plot_histogram_by_group(\n",
    "    df=subset_peaks,\n",
    "    value_column=\"fhw_symmetry_score\",\n",
    "    group_column=\"event_id\",\n",
    "    title=\"Histogram of FHW symmetry score for Peaks in Global Events\",\n",
    "    bin_count=30,\n",
    "    n_cols=2\n",
    ")"
   ]
  },
  {
   "cell_type": "code",
   "execution_count": null,
   "id": "e3c7342f",
   "metadata": {},
   "outputs": [],
   "source": [
    "\n",
    "for event_type in [\"sequential\", \"individual\"]:\n",
    "    subset = peaks[peaks[\"in_event\"] == event_type]\n",
    "    print(f\"\\n#🔍 Peak Type: {event_type.title()} — {len(subset)} peaks\")\n",
    "    plot_histogram_by_dataset(subset, \"fhw_duration\", f\"{event_type.title()} Peaks: Duration\", bin_width=3)\n",
    "    plot_histogram_by_dataset(subset, \"prominence\", f\"{event_type.title()} Peaks: Prominence\", bin_width=3)\n",
    "    plot_histogram_by_dataset(subset, \"fhw_symmetry_score\", f\"{event_type.title()} Peaks: Symmetry\", bin_count=30)"
   ]
  },
  {
   "cell_type": "markdown",
   "id": "71dbac7e",
   "metadata": {},
   "source": [
    "## 🧬 Cell Metrics\n",
    "\n",
    "We analyze:\n",
    "- Number of peaks per cell (activity)\n",
    "- Periodicity score (oscillatory behavior)\n",
    "- Proportion of active vs inactive cells\n",
    "\n",
    "*Interpretation:*\n",
    "\n",
    "*Active cells:* \n",
    "*Active cell fraction is significantly lower and more variable (10%–50% inactive).*\n",
    "*Only the dataset containing a global event exhibits >99% active cells.*\n",
    "*This suggests that only a subset of cells remains responsive, potentially those participating in larger coordinated events.*\n",
    "*This change may be due to phototoxicity, room temperature exposure, or photobleaching leading to reduced responsiveness.*\n",
    "\n",
    "*Number of peaks per cell:*\n",
    "*Significant reduction in total peak count (1,000–4,000 per dataset).*\n",
    "-*Distribution shifts to an exponential decay pattern, rather than normal.*\n",
    "*Only the one dataset with global activity shows similar activity levels to the first run.*\n",
    "*The altered distribution strongly suggests reduced overall excitability, possibly from Fluo-4 photobleaching or environmental stress.*\n",
    "\n",
    "*Periodicity:*\n",
    "*Periodicity scores (~0.7 ± 0.1) remain consistent across both imaging runs.*\n",
    "*This suggests that rhythmic calcium oscillations are preserved, even when global excitability drops.*"
   ]
  },
  {
   "cell_type": "code",
   "execution_count": null,
   "id": "202ba375",
   "metadata": {},
   "outputs": [],
   "source": [
    "# Convert is_active to label for display purposes\n",
    "cells[\"active_label\"] = cells[\"is_active\"].map({1: \"Active\", 0: \"Inactive\"})\n",
    "\n",
    "plot_pie_chart_by_dataset(\n",
    "    df=cells,\n",
    "    column=\"active_label\",\n",
    "    category_order=[\"Active\", \"Inactive\"],\n",
    "    colors={\"Active\": \"#66c2a5\", \"Inactive\": \"#d3d3d3\"},\n",
    "    title=\"Active vs Inactive Cells per Dataset\"\n",
    ")"
   ]
  },
  {
   "cell_type": "code",
   "execution_count": null,
   "id": "fff6382a",
   "metadata": {},
   "outputs": [],
   "source": [
    "plot_histogram_by_dataset(cells, \"num_peaks\", \"Cell: Number of Peaks\", bin_width=1)\n",
    "plot_histogram_by_dataset(cells, \"periodicity_score\", \"Cell: Periodicity Score\", bin_width=0.02)"
   ]
  },
  {
   "cell_type": "markdown",
   "id": "866d2c7b",
   "metadata": {},
   "source": [
    "## 🌊 Sequential Event Metrics\n",
    "\n",
    "We focus on **spatiotemporal events**, extracting:\n",
    "- Mean communication time and speed\n",
    "- Geometric descriptors (elongation, radiality)\n",
    "- Graph depth, number of involved cells\n",
    "\n",
    "*Interpretation:*\n",
    "\n",
    "- *Communication time: Slightly shorter (means between 2.5 and 4.5), with more variation.*\n",
    "- *Speed: Slightly higher (~16–18), but similar spread.*\n",
    "- *Cells involved: Unchanged (~3.2 ± 2).*\n",
    "\n",
    "*These findings indicate that sequential event mechanisms persist but may occur under altered physical or signaling constraints.*"
   ]
  },
  {
   "cell_type": "code",
   "execution_count": null,
   "id": "2ecbee13",
   "metadata": {},
   "outputs": [],
   "source": [
    "seq_events = events[events[\"event_type\"] == \"SequentialEvent\"]\n",
    "plot_histogram_by_dataset(seq_events, \"communication_time_mean\", \"Sequential Events: Comm Time\", bin_width=1)\n",
    "plot_histogram_by_dataset(seq_events, \"communication_speed_mean\", \"Sequential Events: Comm Speed\", bin_count=50)\n",
    "plot_histogram_by_dataset(seq_events, \"elongation_score\", \"Sequential Events: Elongation\", bin_count=50)\n",
    "plot_histogram_by_dataset(seq_events, \"radiality_score\", \"Sequential Events: Radiality\", bin_width=0.05)\n",
    "plot_histogram_by_dataset(seq_events, \"dag_depth\", \"Sequential Events: DAG Depth\", bin_width=1)\n",
    "plot_histogram_by_dataset(seq_events, \"n_cells_involved\", \"Sequential Events: Cells Involved\", bin_width=1)"
   ]
  },
  {
   "cell_type": "markdown",
   "id": "711192ac",
   "metadata": {},
   "source": [
    "## 📌 Conclusion & Next Steps\n",
    "\n",
    "After a detailed comparison between the **first** and **second imaging runs** of spontaneous calcium activity in BxPC3 cells, we conclude that the **second run cannot be considered valid control data** for downstream analyses.\n",
    "\n",
    "The second run shows a **complete absence of global paracrine events** in almost all datasets, a sharp contrast to the first run where such events consistently accounted for ~30–40% of peaks. This loss of global coordination is accompanied by:\n",
    "\n",
    "- A **significant decrease in the number of active cells**\n",
    "- **Reduced total number of peaks per dataset**\n",
    "- A **shift in distribution** of cell activity metrics, including a transition toward exponential decay patterns\n",
    "- **Slightly longer durations** of individual and sequential peaks, potentially reflecting altered event dynamics\n",
    "- **Preserved periodicity and symmetry**, suggesting that although overall activity is suppressed, underlying temporal regulation is still intact\n",
    "\n",
    "These observations are strongly suggestive of **phototoxic damage**, **photobleaching**, and/or **cellular stress** due to environmental conditions (room temperature, lack of CO₂ and humidity) during the extended imaging protocol. One dataset (`2025-04-04 IS3`) did retain global activity and matched the first run in active cell fraction, reinforcing the likelihood that these effects are **time- and condition-dependent**.\n",
    "\n",
    "---\n",
    "\n",
    "### 🔒 Decision\n",
    "\n",
    "- ✅ **First run datasets** are retained as reliable control data.\n",
    "- ❌ **Second run datasets** will be excluded from all future analyses due to significant biological drift.\n",
    "\n",
    "---\n",
    "\n",
    "### 🔮 Next Steps\n",
    "\n",
    "- Investigate the **event-specific activation** of cells — particularly whether inactive cells in the second run are reactivated only during large-scale events.\n",
    "- Consider building metrics to quantify **cell participation by event type** (e.g., proportion of cells involved in global vs. sequential events).\n",
    "- Implement stricter protocols for time control and environmental maintenance between consecutive imaging sessions to avoid reproducibility issues.\n",
    "\n",
    "---\n"
   ]
  }
 ],
 "metadata": {
  "kernelspec": {
   "display_name": ".venv",
   "language": "python",
   "name": "python3"
  },
  "language_info": {
   "codemirror_mode": {
    "name": "ipython",
    "version": 3
   },
   "file_extension": ".py",
   "mimetype": "text/x-python",
   "name": "python",
   "nbconvert_exporter": "python",
   "pygments_lexer": "ipython3",
   "version": "3.10.11"
  }
 },
 "nbformat": 4,
 "nbformat_minor": 5
}
